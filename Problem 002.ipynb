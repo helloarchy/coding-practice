{
 "cells": [
  {
   "cell_type": "heading",
   "metadata": {
    "collapsed": true
   },
   "level": 1,
   "source": [
    "# Problem 2\n",
    "\n",
    "This problem was asked by Uber.\n",
    "Given an array of integers, return a new array such that each element \n",
    "at index i of the new array is the product of all the numbers in the \n",
    "original array except the one at i.\n",
    "For example, if our input was [1, 2, 3, 4, 5], the expected output would \n",
    "be [120, 60, 40, 30, 24]. If our input was [3, 2, 1], the expected \n",
    "output would be [2, 3, 6].\n",
    "\n",
    "Follow-up: what if you can't use division?\n"
   ]
  },
  {
   "cell_type": "code",
   "execution_count": 6,
   "metadata": {},
   "outputs": [],
   "source": [
    "def foobar(numbers):\n",
    "    # array\n",
    "    products = []\n",
    "    for i in range(len(numbers)):\n",
    "        product = 1\n",
    "        for j in range(len(numbers)):\n",
    "            if i != j:\n",
    "                product = product * numbers[j]\n",
    "        products.append(product)\n",
    "    return products\n"
   ]
  },
  {
   "cell_type": "code",
   "execution_count": 8,
   "metadata": {},
   "outputs": [
    {
     "name": "stdout",
     "output_type": "stream",
     "text": [
      "[120, 60, 40, 30, 24]\n[2, 3, 6]\n"
     ]
    }
   ],
   "source": [
    "test_nums_1 = [1, 2, 3, 4, 5]\n",
    "test_prods_1 = foobar(test_nums_1)\n",
    "print(test_prods_1)\n",
    "\n",
    "test_nums_2 = [3, 2, 1]\n",
    "test_prods_2 = foobar(test_nums_2)\n",
    "print(test_prods_2)\n"
   ]
  },
  {
   "cell_type": "code",
   "execution_count": null,
   "metadata": {},
   "outputs": [],
   "source": []
  }
 ],
 "metadata": {
  "kernelspec": {
   "display_name": "Python 2",
   "language": "python",
   "name": "python2"
  },
  "language_info": {
   "codemirror_mode": {
    "name": "ipython",
    "version": 2
   },
   "file_extension": ".py",
   "mimetype": "text/x-python",
   "name": "python",
   "nbconvert_exporter": "python",
   "pygments_lexer": "ipython2",
   "version": "2.7.6"
  }
 },
 "nbformat": 4,
 "nbformat_minor": 0
}
