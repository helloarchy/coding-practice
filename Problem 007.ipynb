{
 "cells": [
  {
   "cell_type": "code",
   "execution_count": null,
   "metadata": {
    "collapsed": true
   },
   "outputs": [],
   "source": [
    "# Problem 7\n",
    "# \n",
    "# This problem was asked by Facebook.\n",
    "# \n",
    "# Given the mapping a = 1, b = 2, ... z = 26, and an encoded message, \n",
    "# count the number of ways it can be decoded.\n",
    "# \n",
    "# For example, the message '111' would give 3, since it could be decoded \n",
    "# as 'aaa', 'ka', and 'ak'.\n",
    "# \n",
    "# You can assume that the messages are decode-able. \n",
    "# For example, '001' is not allowed.\n"
   ]
  },
  {
   "cell_type": "code",
   "execution_count": 47,
   "metadata": {},
   "outputs": [],
   "source": [
    "def possible_decodes(encoded):\n",
    "    # 1 - 9 possibility\n",
    "    # 1 - 26 possibility (across all possible digit pairs)\n",
    "    # Ignore 0, ignore >= 27\n",
    "    digits = [i for i in str(encoded)]\n",
    "    digits_offset = digits[1:] + digits[:1]\n",
    "    digit_pairs = [digits[i] + digits_offset[i] for i in range(len(digits) - 1)]\n",
    "    count = 0\n",
    "    for i in digits:\n",
    "        if int(i) > 0:\n",
    "            count += 1\n",
    "            print(i)\n",
    "    \n",
    "    for j in digit_pairs:\n",
    "        if 0 < int(j) <= 26:\n",
    "            count += 1\n",
    "            print(j)\n",
    "            \n",
    "    return count\n"
   ]
  },
  {
   "cell_type": "code",
   "execution_count": 49,
   "metadata": {},
   "outputs": [
    {
     "name": "stdout",
     "output_type": "stream",
     "text": [
      "1\n1\n1\n1\n11\n11\n11\n4\n"
     ]
    }
   ],
   "source": [
    "print(possible_decodes(1111))\n"
   ]
  },
  {
   "cell_type": "code",
   "execution_count": null,
   "metadata": {},
   "outputs": [],
   "source": [
    "# Solution\n",
    "# This looks like a problem that is ripe for solving with recursion. \n",
    "# First, let's try to think of a recurrence we can use for this problem. \n",
    "# We can try some cases:\n",
    "# \n",
    "# \"\", the empty string and our base case, should return 1.\n",
    "# \"1\" should return 1, since we can parse it as \"a\" + \"\".\n",
    "# \"11\" should return 2, since we can parse it as \"a\" + \"a\" + \"\" and \"k\" + \"\".\n",
    "# \"111\" should return 3, since we can parse it as:\n",
    "# \"a\" + \"k\" + \"\"\n",
    "# \"k\" + \"a\" + \"\"\n",
    "# \"a\" + \"a\" + \"a\" + \"\".\n",
    "# \"011\" should return 0, since no letter starts with 0 in our mapping.\n",
    "# \"602\" should also return 0 for similar reasons.\n",
    "# \n",
    "# We have a good starting point. We can see that the recursive structure is as follows:\n",
    "# \n",
    "# If string starts with zero, then there's no valid encoding.\n",
    "# If the string's length is less than or equal to 1, there is only 1 encoding.\n",
    "# If the first two digits form a number k that is less than or equal to 26, \n",
    "# we can recursively count the number of encodings assuming we pick k as a letter.\n",
    "# We can also pick the first digit as a letter and count the number of \n",
    "# encodings with this assumption.\n"
   ]
  },
  {
   "cell_type": "code",
   "execution_count": null,
   "metadata": {},
   "outputs": [],
   "source": [
    "def num_encodings(s):\n",
    "    if s.startswith('0'):\n",
    "        return 0\n",
    "    elif len(s) <= 1:  # This covers empty string\n",
    "        return 1\n",
    "\n",
    "    total = 0\n",
    "\n",
    "    if int(s[:2]) <= 26:\n",
    "        total += num_encodings(s[2:])\n",
    "\n",
    "    total += num_encodings(s[1:])\n",
    "    return total\n"
   ]
  },
  {
   "cell_type": "code",
   "execution_count": null,
   "metadata": {},
   "outputs": [],
   "source": [
    "# However, this solution is not very efficient. Every branch calls itself \n",
    "# recursively twice, so our runtime is O(2n). We can do better by using \n",
    "# dynamic programming.\n",
    "# \n",
    "# All the following code does is repeat the same computation as above \n",
    "# except starting from the base case and building up the solution. Since \n",
    "# each iteration takes O(1), the whole algorithm now takes O(n).\n"
   ]
  },
  {
   "cell_type": "code",
   "execution_count": null,
   "metadata": {},
   "outputs": [],
   "source": [
    "from collections import defaultdict\n",
    "\n",
    "\n",
    "def num_encodings(s):\n",
    "    # On lookup, this hash map returns a default value of 0 if the key doesn't exist\n",
    "    # cache[i] gives us # of ways to encode the substring s[i:]\n",
    "    cache = defaultdict(int)\n",
    "    cache[len(s)] = 1  # Empty string is 1 valid encoding\n",
    "\n",
    "    for i in reversed(range(len(s))):\n",
    "        if s[i].startswith('0'):\n",
    "            cache[i] = 0\n",
    "        elif i == len(s) - 1:\n",
    "            cache[i] = 1\n",
    "        else:\n",
    "            if int(s[i:i + 2]) <= 26:\n",
    "                cache[i] = cache[i + 2]\n",
    "            cache[i] += cache[i + 1]\n",
    "    return cache[0]\n"
   ]
  },
  {
   "cell_type": "code",
   "execution_count": null,
   "metadata": {},
   "outputs": [],
   "source": []
  },
  {
   "cell_type": "code",
   "execution_count": null,
   "metadata": {},
   "outputs": [],
   "source": []
  },
  {
   "cell_type": "code",
   "execution_count": null,
   "metadata": {},
   "outputs": [],
   "source": []
  }
 ],
 "metadata": {
  "kernelspec": {
   "display_name": "Python 2",
   "language": "python",
   "name": "python2"
  },
  "language_info": {
   "codemirror_mode": {
    "name": "ipython",
    "version": 2
   },
   "file_extension": ".py",
   "mimetype": "text/x-python",
   "name": "python",
   "nbconvert_exporter": "python",
   "pygments_lexer": "ipython2",
   "version": "2.7.6"
  }
 },
 "nbformat": 4,
 "nbformat_minor": 0
}
