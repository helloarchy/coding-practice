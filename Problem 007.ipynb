{
 "cells": [
  {
   "cell_type": "code",
   "execution_count": null,
   "metadata": {
    "collapsed": true
   },
   "outputs": [],
   "source": [
    "# Problem 7\n",
    "# \n",
    "# This problem was asked by Facebook.\n",
    "# \n",
    "# Given the mapping a = 1, b = 2, ... z = 26, and an encoded message, \n",
    "# count the number of ways it can be decoded.\n",
    "# \n",
    "# For example, the message '111' would give 3, since it could be decoded \n",
    "# as 'aaa', 'ka', and 'ak'.\n",
    "# \n",
    "# You can assume that the messages are decode-able. \n",
    "# For example, '001' is not allowed.\n"
   ]
  },
  {
   "cell_type": "code",
   "execution_count": 45,
   "metadata": {},
   "outputs": [],
   "source": [
    "def possible_decodes(encoded):\n",
    "    # 1 - 9 possibility\n",
    "    # 1 - 26 possibility (across all possible digit pairs)\n",
    "    # Ignore 0, ignore >= 27\n",
    "    digits = [i for i in str(encoded)]\n",
    "    digits_offset = digits[1:] + digits[:1]\n",
    "    digit_pairs = [digits[i] + digits_offset[i] for i in range(len(digits) - 1)]\n",
    "    count = 0\n",
    "    for i in digits:\n",
    "        if int(i) > 0:\n",
    "            count += 1\n",
    "            print(i)\n",
    "    \n",
    "    for j in digit_pairs:\n",
    "        if 0 < int(j) <= 26:\n",
    "            count += 1\n",
    "            print(j)\n",
    "            \n",
    "    return count\n"
   ]
  },
  {
   "cell_type": "code",
   "execution_count": 46,
   "metadata": {},
   "outputs": [
    {
     "name": "stdout",
     "output_type": "stream",
     "text": [
      "1\n1\n1\n11\n11\n5\n"
     ]
    }
   ],
   "source": [
    "print(possible_decodes(111))\n"
   ]
  },
  {
   "cell_type": "code",
   "execution_count": null,
   "metadata": {},
   "outputs": [],
   "source": []
  },
  {
   "cell_type": "code",
   "execution_count": null,
   "metadata": {},
   "outputs": [],
   "source": []
  },
  {
   "cell_type": "code",
   "execution_count": null,
   "metadata": {},
   "outputs": [],
   "source": []
  },
  {
   "cell_type": "code",
   "execution_count": null,
   "metadata": {},
   "outputs": [],
   "source": []
  }
 ],
 "metadata": {
  "kernelspec": {
   "display_name": "Python 2",
   "language": "python",
   "name": "python2"
  },
  "language_info": {
   "codemirror_mode": {
    "name": "ipython",
    "version": 2
   },
   "file_extension": ".py",
   "mimetype": "text/x-python",
   "name": "python",
   "nbconvert_exporter": "python",
   "pygments_lexer": "ipython2",
   "version": "2.7.6"
  }
 },
 "nbformat": 4,
 "nbformat_minor": 0
}
