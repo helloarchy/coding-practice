{
 "cells": [
  {
   "cell_type": "markdown",
   "metadata": {
    "collapsed": true
   },
   "source": [
    "# Problem 1\n",
    "\n",
    "This problem was recently asked by Google.\n",
    "Given a list of numbers and a number k, return whether any two numbers from the list add up to k.\n",
    "For example, given [10, 15, 3, 7] and k of 17, return true since 10 + 7 is 17.\n",
    "\n",
    "Bonus: Can you do this in one pass?\n"
   ]
  },
  {
   "cell_type": "code",
   "execution_count": 19,
   "metadata": {},
   "outputs": [],
   "source": [
    "def add_up_to_k(numbers, k):\n",
    "    # Bool, true if add up\n",
    "    do_add = False\n",
    "    # Go through all numbers\n",
    "    for num1 in range(len(numbers)):\n",
    "        # Only compare against numbers that are further in the list\n",
    "        for num2 in numbers[num1:]:\n",
    "                if numbers[num1] + num2 == k:\n",
    "                    do_add = True\n",
    "                    print(\"num1 = {0}, num2 = {1}\".format(numbers[num1], str(num2)))\n",
    "    return do_add\n"
   ]
  },
  {
   "cell_type": "code",
   "execution_count": 20,
   "metadata": {},
   "outputs": [
    {
     "name": "stdout",
     "output_type": "stream",
     "text": [
      "num1 = 10, num2 = 7\nTest 1 =  True\nTest 2 =  False\n"
     ]
    }
   ],
   "source": [
    "num_list_1 = [10, 15, 3, 7]\n",
    "k_1 = 17\n",
    "k_2 = 9\n",
    "\n",
    "test_1 = add_up_to_k(num_list_1, k_1)\n",
    "print(\"Test 1 = \", test_1)\n",
    "\n",
    "test_2 = add_up_to_k(num_list_1, k_2)\n",
    "print(\"Test 2 = \", test_2)\n"
   ]
  },
  {
   "cell_type": "heading",
   "metadata": {},
   "level": 1,
   "source": [
    "Solutions: "
   ]
  },
  {
   "cell_type": "heading",
   "metadata": {},
   "level": 2,
   "source": []
  },
  {
   "cell_type": "code",
   "execution_count": null,
   "metadata": {},
   "outputs": [],
   "source": [
    "def two_sum(lst, k):\n",
    "    for i in range(len(lst)):\n",
    "        for j in range(len(lst)):\n",
    "            if i != j and lst[i] + lst[j] == k:\n",
    "                return True\n",
    "    return False\n"
   ]
  },
  {
   "cell_type": "heading",
   "metadata": {},
   "level": 2,
   "source": []
  },
  {
   "cell_type": "code",
   "execution_count": null,
   "metadata": {},
   "outputs": [],
   "source": [
    "def two_sum(lst, k):\n",
    "    seen = set()\n",
    "    for num in lst:\n",
    "        if k - num in seen:\n",
    "            return True\n",
    "        seen.add(num)\n",
    "    return False\n"
   ]
  },
  {
   "cell_type": "heading",
   "metadata": {},
   "level": 2,
   "source": []
  },
  {
   "cell_type": "code",
   "execution_count": null,
   "metadata": {},
   "outputs": [],
   "source": [
    "from bisect import bisect_left\n",
    "\n",
    "\n",
    "def two_sum(lst, k):\n",
    "    lst.sort()\n",
    "\n",
    "    for i in range(len(lst)):\n",
    "        target = k - lst[i]\n",
    "        j = binary_search(lst, target)\n",
    "\n",
    "        # Check that binary search found the target and that it's not in the same index\n",
    "        # as i. If it is in the same index, we can check lst[i + 1] and lst[i - 1] to see\n",
    "        #  if there's another number that's the same value as lst[i].\n",
    "        if j == -1:\n",
    "            continue\n",
    "        elif j != i:\n",
    "            return True\n",
    "        elif j + 1 < len(lst) and lst[j + 1] == target:\n",
    "            return True\n",
    "        elif j - 1 >= 0 and lst[j - 1] == target:\n",
    "            return True\n",
    "    return False\n",
    "\n",
    "\n",
    "def binary_search(lst, target):\n",
    "    lo = 0\n",
    "    hi = len(lst)\n",
    "    ind = bisect_left(lst, target, lo, hi)\n",
    "\n",
    "    if 0 <= ind < hi and lst[ind] == target:\n",
    "        return ind\n",
    "    return -1\n"
   ]
  }
 ],
 "metadata": {
  "kernelspec": {
   "display_name": "Python 2",
   "language": "python",
   "name": "python2"
  },
  "language_info": {
   "codemirror_mode": {
    "name": "ipython",
    "version": 2
   },
   "file_extension": ".py",
   "mimetype": "text/x-python",
   "name": "python",
   "nbconvert_exporter": "python",
   "pygments_lexer": "ipython2",
   "version": "2.7.6"
  }
 },
 "nbformat": 4,
 "nbformat_minor": 0
}
