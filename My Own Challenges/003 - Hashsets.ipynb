{
 "cells": [
  {
   "cell_type": "code",
   "execution_count": 1,
   "metadata": {
    "collapsed": true
   },
   "outputs": [],
   "source": [
    "# Create a class BankAccount with\n",
    "# - account number (int), and\n",
    "# - sort code (int).\n",
    "# The constructor should take an account number and a sort code as arguments. Once an instance\n",
    "# of BankAccount has been created it should be impossible to change either the account number\n",
    "# or the sort code.\n",
    "# Create a main class and check your BankAccount class works as expected.\n"
   ]
  },
  {
   "cell_type": "code",
   "execution_count": 2,
   "metadata": {},
   "outputs": [],
   "source": [
    "class BankAccount:\n",
    "    def __init__(self, acc_num, sort_code):\n",
    "        self.sort_code = sort_code\n",
    "        self.acc_num = acc_num\n"
   ]
  },
  {
   "cell_type": "code",
   "execution_count": 3,
   "metadata": {},
   "outputs": [],
   "source": [
    "# We are going to use a HashSet to store BankAccount objects. A HashSet\n",
    "# uses a HashMap to implement a set.\n",
    "# Write a main method which does exactly the following:\n",
    "# - Creates a HashSet that stored BankAccount objects.\n",
    "# - Adds the following separate instances of BankAccount to the hash set:\n",
    "# - - Bank Account 1 with account number 123000 and sort code 321000.\n",
    "# - - Bank Account 2 with account number 555000 and sort code 555000.\n",
    "# - - Bank Account 3 with account number 123000 and sort code 321000.\n",
    "# - Loops over the hash set using a for-each loop (also known as an \n",
    "# enhanced-for loop) printing the account number and sort code of each \n",
    "# bank account as it goes.\n",
    "#\n",
    "# Run your code and notice how the output shows that the set contains \n",
    "# 3 bank account instances. Now notice that the first and third objects \n",
    "# should be counted as equal (as they have the same account number and \n",
    "# sort code). As sets do not contain multiple occurrences of equal objects,\n",
    "# we should only have 2 objects in the set { not 3! We need to fix this!\n",
    "# The HashSet uses both the BankAccount's equals method and hashCode method \n",
    "# (both inherited from the class Object). The problem is that the inherited \n",
    "# versions are not good enough. They consider bank account 1 and bank \n",
    "# account 3 to be unequal, where as we want them to be considered as equal. \n",
    "# We are going to have to provide our own implementations!\n"
   ]
  },
  {
   "cell_type": "code",
   "execution_count": 4,
   "metadata": {},
   "outputs": [
    {
     "name": "stdout",
     "output_type": "stream",
     "text": [
      "123000   321000\n123000   321000\n555000   555000\n"
     ]
    }
   ],
   "source": [
    "bank_acc_1 = BankAccount(123000, 321000)\n",
    "bank_acc_2 = BankAccount(555000, 555000)\n",
    "bank_acc_3 = BankAccount(123000, 321000)\n",
    "\n",
    "bank_set = set()\n",
    "bank_set.add(bank_acc_1)\n",
    "bank_set.add(bank_acc_2)\n",
    "bank_set.add(bank_acc_3)\n",
    "\n",
    "for account in bank_set:\n",
    "    print(account.acc_num, \" \", account.sort_code)\n"
   ]
  },
  {
   "cell_type": "code",
   "execution_count": 5,
   "metadata": {},
   "outputs": [],
   "source": []
  },
  {
   "cell_type": "code",
   "execution_count": 5,
   "metadata": {},
   "outputs": [],
   "source": []
  },
  {
   "cell_type": "code",
   "execution_count": 5,
   "metadata": {},
   "outputs": [],
   "source": []
  },
  {
   "cell_type": "code",
   "execution_count": 5,
   "metadata": {},
   "outputs": [],
   "source": []
  },
  {
   "cell_type": "code",
   "execution_count": 5,
   "metadata": {},
   "outputs": [],
   "source": []
  },
  {
   "cell_type": "code",
   "execution_count": 5,
   "metadata": {},
   "outputs": [],
   "source": []
  }
 ],
 "metadata": {
  "kernelspec": {
   "display_name": "Python 2",
   "language": "python",
   "name": "python2"
  },
  "language_info": {
   "codemirror_mode": {
    "name": "ipython",
    "version": 2
   },
   "file_extension": ".py",
   "mimetype": "text/x-python",
   "name": "python",
   "nbconvert_exporter": "python",
   "pygments_lexer": "ipython2",
   "version": "2.7.6"
  }
 },
 "nbformat": 4,
 "nbformat_minor": 0
}
