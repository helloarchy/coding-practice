{
 "cells": [
  {
   "cell_type": "code",
   "execution_count": null,
   "metadata": {
    "collapsed": true
   },
   "outputs": [],
   "source": [
    "# For this task you are not allowed to use the multiplication operator.\n",
    "# Write a recursive method which multiplies two integers. Your multiply method should take two\n",
    "# parameters n and m both of type int; and return an integer.\n",
    "#\n",
    "# The rules for multiplication can be expressed in terms of addition as:\n",
    "# - Base case:\n",
    "# - - multiply(n, 0) = 0\n",
    "# - Recursive case (for m >= 1):\n",
    "# - - multiply(n, m) = multiply(n, m - 1) + n\n",
    "#\n",
    "# Your implementation of your recursive method should be based on these rules.\n",
    "# Special Rule: For this task, within your multiply method all method calls must be simply\n",
    "# assigned to variables. E.g.,\n",
    "# int t = foo();\n",
    "# This will make the next task easier.\n"
   ]
  },
  {
   "cell_type": "code",
   "execution_count": 3,
   "metadata": {},
   "outputs": [],
   "source": [
    "def multiply(n, m):\n",
    "    if m == 0:\n",
    "        return 0\n",
    "    return multiply(n, m - 1) + n\n"
   ]
  },
  {
   "cell_type": "code",
   "execution_count": 5,
   "metadata": {},
   "outputs": [
    {
     "name": "stdout",
     "output_type": "stream",
     "text": [
      "Test 1 =  10\nTest 1 =  21\nTest 1 =  45\n"
     ]
    }
   ],
   "source": [
    "print(\"Test 1 = \", multiply(2, 5))\n",
    "print(\"Test 1 = \", multiply(3, 7))\n",
    "print(\"Test 1 = \", multiply(9, 5))\n"
   ]
  },
  {
   "cell_type": "code",
   "execution_count": null,
   "metadata": {},
   "outputs": [],
   "source": []
  },
  {
   "cell_type": "code",
   "execution_count": null,
   "metadata": {},
   "outputs": [],
   "source": []
  },
  {
   "cell_type": "code",
   "execution_count": null,
   "metadata": {},
   "outputs": [],
   "source": []
  }
 ],
 "metadata": {
  "kernelspec": {
   "display_name": "Python 2",
   "language": "python",
   "name": "python2"
  },
  "language_info": {
   "codemirror_mode": {
    "name": "ipython",
    "version": 2
   },
   "file_extension": ".py",
   "mimetype": "text/x-python",
   "name": "python",
   "nbconvert_exporter": "python",
   "pygments_lexer": "ipython2",
   "version": "2.7.6"
  }
 },
 "nbformat": 4,
 "nbformat_minor": 0
}
