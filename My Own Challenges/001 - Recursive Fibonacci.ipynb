{
 "cells": [
  {
   "cell_type": "code",
   "execution_count": null,
   "metadata": {},
   "outputs": [],
   "source": [
    "# The Fibonacci numbers are the numbers in the following sequence:\n",
    "# 0; 1; 1; 2; 3; 5; 8; 13; 21; 34; 55; 89; 144; : : :\n",
    "#\n",
    "# The first two numbers in the Fibonacci sequence are 0 and 1, \n",
    "# and each subsequent number is the sum of the previous two.\n",
    "#\n",
    "# History: Fibonacci numbers were originally thought to model the procreation of rabbits, \n",
    "# but it was later found that they actually model the procreation of honey bees more closely.\n",
    "#\n",
    "# Write a method which takes a integer n as a parameter and returns the n-th Fibonacci number.\n",
    "# The rules for Fibonacci numbers can be expressed as:\n",
    "# - Base case 1:\n",
    "# - - fib(0) = 0\n",
    "# - Base case 2:\n",
    "# - - fib(1) = 1\n",
    "# - Recursive case (for n >= 2):\n",
    "# - - fib(n) = fib(n - 1) + fib(n - 2)\n",
    "\n",
    "# Your implementation of your recursive method should be based on these rules.\n",
    "# Special Rule: For this task, within your multiply method all method calls must be simply\n",
    "# assigned to variables. E.g.,\n",
    "# int x = foo();\n",
    "# This will make the next task easier.\n"
   ]
  },
  {
   "cell_type": "code",
   "execution_count": 13,
   "metadata": {
    "collapsed": true
   },
   "outputs": [],
   "source": [
    "def fibonacci_nth(n):\n",
    "    if n == 0:\n",
    "        return 0 \n",
    "    if n == 1:\n",
    "        return 1\n",
    "    if n >= 2:\n",
    "        return fibonacci_nth(n - 1) + fibonacci_nth(n - 2)\n"
   ]
  },
  {
   "cell_type": "code",
   "execution_count": 15,
   "metadata": {},
   "outputs": [
    {
     "name": "stdout",
     "output_type": "stream",
     "text": [
      "Fib test =  5\nFib test =  89\n"
     ]
    }
   ],
   "source": [
    "print(\"Fib test = \", fibonacci_nth(5))\n",
    "print(\"Fib test = \", fibonacci_nth(11))\n"
   ]
  },
  {
   "cell_type": "code",
   "execution_count": null,
   "metadata": {},
   "outputs": [],
   "source": []
  },
  {
   "cell_type": "code",
   "execution_count": null,
   "metadata": {},
   "outputs": [],
   "source": []
  },
  {
   "cell_type": "code",
   "execution_count": null,
   "metadata": {},
   "outputs": [],
   "source": []
  },
  {
   "cell_type": "code",
   "execution_count": null,
   "metadata": {},
   "outputs": [],
   "source": []
  },
  {
   "cell_type": "code",
   "execution_count": null,
   "metadata": {},
   "outputs": [],
   "source": []
  },
  {
   "cell_type": "code",
   "execution_count": null,
   "metadata": {},
   "outputs": [],
   "source": []
  },
  {
   "cell_type": "code",
   "execution_count": null,
   "metadata": {},
   "outputs": [],
   "source": []
  }
 ],
 "metadata": {
  "kernelspec": {
   "display_name": "Python 2",
   "language": "python",
   "name": "python2"
  },
  "language_info": {
   "codemirror_mode": {
    "name": "ipython",
    "version": 2
   },
   "file_extension": ".py",
   "mimetype": "text/x-python",
   "name": "python",
   "nbconvert_exporter": "python",
   "pygments_lexer": "ipython2",
   "version": "2.7.6"
  }
 },
 "nbformat": 4,
 "nbformat_minor": 0
}
