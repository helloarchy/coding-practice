{
 "cells": [
  {
   "cell_type": "code",
   "execution_count": 5,
   "metadata": {
    "collapsed": true
   },
   "outputs": [],
   "source": [
    "# Trees are built up using nodes. Each node contain:\n",
    "# - a data element: a reference to an object of type Object\n",
    "# - a left node: a reference to the left sub-tree of type Node\n",
    "# - a right node: a reference to the right sub-tree of type Node\n",
    "# Create a class Node which contains the above information. \n",
    "# Implement reasonable setters and getters in your Node class.\n",
    "# Test out your class by creating nodes and calling various methods \n",
    "# on the nodes in the main method.\n"
   ]
  },
  {
   "cell_type": "code",
   "execution_count": 6,
   "metadata": {},
   "outputs": [],
   "source": [
    "class Node:\n",
    "    def __init__(self, data, left=None, right=None):\n",
    "        self.data = data\n",
    "        self.left = left\n",
    "        self.right = right\n"
   ]
  },
  {
   "cell_type": "code",
   "execution_count": 7,
   "metadata": {},
   "outputs": [],
   "source": [
    "# Create a class Tree to model a binary tree. This class should contain \n",
    "# a single reference to the root node of the tree. Implement reasonable \n",
    "# setters and getters in your Tree class.\n",
    "# Again, test out your class by creating a tree and nodes objects; and \n",
    "# by calling various methods on the them in the main method.\n"
   ]
  },
  {
   "cell_type": "code",
   "execution_count": 8,
   "metadata": {},
   "outputs": [],
   "source": [
    "class Tree:\n",
    "    def __init__(self, root):\n",
    "        self.root = root\n"
   ]
  },
  {
   "cell_type": "code",
   "execution_count": 9,
   "metadata": {},
   "outputs": [],
   "source": [
    "# Test\n",
    "root = Node(\"Lin\")\n",
    "howl = Node(\"Howl\")\n",
    "howl.left = Node(\"Calcifer\")\n",
    "howl.right = Node(\"Kiki\")\n",
    "san = Node(\"San\")\n",
    "san.left = Node(\"Ponyo\")\n",
    "san.right = Node(\"Sophie\")\n",
    "root.left = howl\n",
    "root.right = san\n",
    "\n",
    "tree = Tree(root)\n"
   ]
  },
  {
   "cell_type": "code",
   "execution_count": 18,
   "metadata": {},
   "outputs": [],
   "source": [
    "# Traversals\n",
    "def pre_order_traversal(root):\n",
    "    if root is None:\n",
    "        return\n",
    "    print(root.data)\n",
    "    pre_order_traversal(root.left)\n",
    "    pre_order_traversal(root.right)\n",
    "\n",
    "\n",
    "def in_order_traversal(root):\n",
    "    if root is None:\n",
    "        return\n",
    "    pre_order_traversal(root.left)\n",
    "    print(root.data)\n",
    "    pre_order_traversal(root.right)\n",
    "\n",
    "\n",
    "def post_order_traversal(root):\n",
    "    if root is None:\n",
    "        return\n",
    "    pre_order_traversal(root.left)\n",
    "    pre_order_traversal(root.right)\n",
    "    print(root.data)\n"
   ]
  },
  {
   "cell_type": "code",
   "execution_count": 19,
   "metadata": {},
   "outputs": [
    {
     "name": "stdout",
     "output_type": "stream",
     "text": [
      "Pre-order:\nLin\nHowl\nCalcifer\nKiki\nSan\nPonyo\nSophie\n\nIn-order:\nHowl\nCalcifer\nKiki\nLin\nSan\nPonyo\nSophie\n\nPost-order:\nHowl\nCalcifer\nKiki\nSan\nPonyo\nSophie\nLin\n"
     ]
    }
   ],
   "source": [
    "# Test traversals\n",
    "print(\"Pre-order:\")\n",
    "pre_order_traversal(tree.root)\n",
    "print(\"\\nIn-order:\")\n",
    "in_order_traversal(tree.root)\n",
    "print(\"\\nPost-order:\")\n",
    "post_order_traversal(tree.root)\n"
   ]
  },
  {
   "cell_type": "code",
   "execution_count": 12,
   "metadata": {},
   "outputs": [],
   "source": []
  }
 ],
 "metadata": {
  "kernelspec": {
   "display_name": "Python 2",
   "language": "python",
   "name": "python2"
  },
  "language_info": {
   "codemirror_mode": {
    "name": "ipython",
    "version": 2
   },
   "file_extension": ".py",
   "mimetype": "text/x-python",
   "name": "python",
   "nbconvert_exporter": "python",
   "pygments_lexer": "ipython2",
   "version": "2.7.6"
  }
 },
 "nbformat": 4,
 "nbformat_minor": 0
}
