{
 "cells": [
  {
   "cell_type": "code",
   "execution_count": null,
   "metadata": {
    "collapsed": true
   },
   "outputs": [],
   "source": [
    "# An XOR linked list is a more memory efficient doubly linked list. \n",
    "# Instead of each node holding next and prev fields, it holds a \n",
    "# field named both, which is an XOR of the next node and the \n",
    "# previous node. Implement an XOR linked list; it has an add(element) \n",
    "# which adds the element to the end, and a get(index) which \n",
    "# returns the node at index.\n",
    "# \n",
    "# If using a language that has no pointers (such as Python), you \n",
    "# can assume you have access to get_pointer and dereference_pointer \n",
    "# functions that converts between nodes and memory addresses.\n"
   ]
  },
  {
   "cell_type": "code",
   "execution_count": 2,
   "metadata": {},
   "outputs": [],
   "source": [
    "class Node:\n",
    "    def __init__(self, both, value):\n",
    "        self.both = both\n",
    "        self.value = value\n"
   ]
  },
  {
   "cell_type": "code",
   "execution_count": 3,
   "metadata": {},
   "outputs": [],
   "source": [
    "class LinkedListXOR:\n",
    "    def __init__(self):\n",
    "        self.head = None\n",
    "        \n",
    "    def add(self, element):\n",
    "        if self.head is None:\n",
    "            node = Node(None, element)\n",
    "            self.head = node\n",
    "            \n",
    "    def get(self, index):\n",
    "        node = self.head\n",
    "        for i in range(index):\n",
    "            node = node.both\n",
    "        return node\n"
   ]
  },
  {
   "cell_type": "code",
   "execution_count": null,
   "metadata": {},
   "outputs": [],
   "source": [
    "# For the head, both will just be the address of next, and if it's the tail, \n",
    "# it should just be the address of prev. And intermediate nodes should have \n",
    "# an XOR of next and prev.\n",
    "# \n",
    "# Here's an example XOR linked list which meets the above conditions:\n",
    "# \n",
    "# A    <->    B    <->    C    <->    D\n",
    "# \n",
    "# B         A ⊕ C       B ⊕ D         C\n",
    "# Let's work through get first, assuming that the above conditions are \n",
    "# maintained. Then, given a node, to go to the next node, we have to XOR \n",
    "# the current node's both with the previous node's address. And to handle \n",
    "# getting the next node from the head, we would initialize the previous \n",
    "# node's address as 0.\n",
    "# \n",
    "# So in the above example, A's both is B which when XOR'd with 0 would \n",
    "# become B. Then B's both is A ⊕ C, which when XOR'd with A becomes C, etc.\n",
    "# \n",
    "# To implement add, we would need to update current tail's both to be \n",
    "# XOR'd by its current both the new node's memory address. Then the new \n",
    "# node's both would just point to the memory address of the current tail. \n",
    "# Finally, we'd update the current tail to be equal to the new node.\n"
   ]
  },
  {
   "cell_type": "code",
   "execution_count": null,
   "metadata": {},
   "outputs": [],
   "source": [
    "import ctypes\n",
    "\n",
    "\n",
    "# This is hacky. It's a data structure for C, not python.\n",
    "class Node(object):\n",
    "    def __init__(self, val):\n",
    "        self.val = val\n",
    "        self.both = 0\n",
    "\n",
    "\n",
    "class XorLinkedList(object):\n",
    "    def __init__(self):\n",
    "        self.head = self.tail = None\n",
    "        self.__nodes = []  # This is to prevent garbage collection\n",
    "\n",
    "    def add(self, node):\n",
    "        if self.head is None:\n",
    "            self.head = self.tail = node\n",
    "        else:\n",
    "            self.tail.both = id(node) ^ self.tail.both\n",
    "            node.both = id(self.tail)\n",
    "            self.tail = node\n",
    "\n",
    "        # Without this line, Python thinks there is no way to reach nodes between\n",
    "        # head and tail.\n",
    "        self.__nodes.append(node)\n",
    "\n",
    "    def get(self, index):\n",
    "        prev_id = 0\n",
    "        node = self.head\n",
    "        for i in range(index):\n",
    "            next_id = prev_id ^ node.both\n",
    "\n",
    "            if next_id:\n",
    "                prev_id = id(node)\n",
    "                node = _get_obj(next_id)\n",
    "            else:\n",
    "                raise IndexError('Linked list index out of range')\n",
    "        return node\n",
    "\n",
    "\n",
    "def _get_obj(id):\n",
    "    return ctypes.cast(id, ctypes.py_object).value\n"
   ]
  },
  {
   "cell_type": "code",
   "execution_count": null,
   "metadata": {},
   "outputs": [],
   "source": []
  },
  {
   "cell_type": "code",
   "execution_count": null,
   "metadata": {},
   "outputs": [],
   "source": []
  },
  {
   "cell_type": "code",
   "execution_count": null,
   "metadata": {},
   "outputs": [],
   "source": []
  },
  {
   "cell_type": "code",
   "execution_count": null,
   "metadata": {},
   "outputs": [],
   "source": []
  }
 ],
 "metadata": {
  "kernelspec": {
   "display_name": "Python 2",
   "language": "python",
   "name": "python2"
  },
  "language_info": {
   "codemirror_mode": {
    "name": "ipython",
    "version": 2
   },
   "file_extension": ".py",
   "mimetype": "text/x-python",
   "name": "python",
   "nbconvert_exporter": "python",
   "pygments_lexer": "ipython2",
   "version": "2.7.6"
  }
 },
 "nbformat": 4,
 "nbformat_minor": 0
}
