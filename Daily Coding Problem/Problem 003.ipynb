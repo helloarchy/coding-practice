{
 "cells": [
  {
   "cell_type": "heading",
   "metadata": {
    "collapsed": true
   },
   "level": 1,
   "source": []
  },
  {
   "cell_type": "code",
   "execution_count": 23,
   "metadata": {},
   "outputs": [],
   "source": [
    "# Code provided by question\n",
    "class Node:\n",
    "    def __init__(self, val, left=None, right=None):\n",
    "        self.val = val\n",
    "        self.left = left\n",
    "        self.right = right\n"
   ]
  },
  {
   "cell_type": "code",
   "execution_count": 24,
   "metadata": {},
   "outputs": [],
   "source": [
    "class Tree:\n",
    "    def __init__(self, root):\n",
    "        self.root = root\n"
   ]
  },
  {
   "cell_type": "code",
   "execution_count": 57,
   "metadata": {},
   "outputs": [],
   "source": [
    "def serialize(node):\n",
    "    print(\"recurring\")\n",
    "    serial = \"\"\n",
    "    if node is None:\n",
    "        return \"\"\n",
    "    \n",
    "    serial += serialize(node.left)\n",
    "    serial += serialize(node.right)\n",
    "    \n",
    "    return serial + \",\" + node.val\n",
    "    \n",
    "    # serial = serial + node.val\n",
    "    # serial = serial + serialize(node.right)\n",
    "    # return serial + node.val\n",
    "    # return node.val + \"(\\n\" + \"(\" + serialize(node.left) + \"), (\" + serialize(node.right) + \"))\"\n"
   ]
  },
  {
   "cell_type": "code",
   "execution_count": 87,
   "metadata": {},
   "outputs": [],
   "source": [
    "def deserialize(tree_text):\n",
    "    node_values = tree_text.split(\",\")\n",
    "    node_values.reverse()\n",
    "\n",
    "    def tree_builder(node=None):\n",
    "        nodes = iter(node_values)\n",
    "        val = next(nodes)\n",
    "        print(\"Val is \", val)\n",
    "        if val is None:\n",
    "            return\n",
    "        node = Node(val)\n",
    "        # TODO: Causes infinite recursions\n",
    "        if node.val == \"root\":\n",
    "            tree_builder(node.left)\n",
    "            tree_builder(node.right)\n",
    "        elif node.val == \"left\":\n",
    "            tree_builder(node.left)\n",
    "        elif node.val == \"right\":\n",
    "            tree_builder(node.right)\n",
    "            \n",
    "    return tree_builder()\n"
   ]
  },
  {
   "cell_type": "code",
   "execution_count": 88,
   "metadata": {},
   "outputs": [
    {
     "name": "stdout",
     "output_type": "stream",
     "text": [
      "recurring\nrecurring\nrecurring\nrecurring\nrecurring\nrecurring\nrecurring\nrecurring\nrecurring\n,left.left,left,right,root\nVal is  root\nVal is  root\nVal is  root\nVal is  root\nVal is  root\nVal is  root\nVal is  root\nVal is  root\nVal is  root\nVal is  root\nVal is  root\nVal is  root\nVal is  root\nVal is  root\nVal is  root\nVal is  root\nVal is  root\nVal is  root\nVal is  root\nVal is  root\nVal is  root\nVal is  root\nVal is  root\nVal is  root\nVal is  root\nVal is  root\nVal is  root\nVal is  root\nVal is  root\nVal is  root\nVal is  root\nVal is  root\nVal is  root\nVal is  root\nVal is  root\nVal is  root\nVal is  root\nVal is  root\nVal is  root\nVal is  root\nVal is  root\nVal is  root\nVal is  root\nVal is  root\nVal is  root\nVal is  root\nVal is  root\nVal is  root\nVal is  root\nVal is  root\nVal is  root\nVal is  root\nVal is  root\nVal is  root\nVal is  root\nVal is  root\nVal is  root\nVal is  root\nVal is  root\nVal is  root\nVal is  root\nVal is  root\nVal is  root\nVal is  root\nVal is  root\nVal is  root\nVal is  root\nVal is  root\nVal is  root\nVal is  root\nVal is  root\nVal is  root\nVal is  root\nVal is  root\nVal is  root\nVal is  root\nVal is  root\nVal is  root\nVal is  root\nVal is  root\nVal is  root\nVal is  root\nVal is  root\nVal is  root\nVal is  root\nVal is  root\nVal is  root\nVal is  root\nVal is  root\nVal is  root\nVal is  root\nVal is  root\nVal is  root\nVal is  root\nVal is  root\nVal is  root\nVal is  root\nVal is  root\nVal is  root\nVal is  root\nVal is  root\nVal is  root\nVal is  root\nVal is  root\nVal is  root\nVal is  root\nVal is  root\nVal is  root\nVal is  root\nVal is  root\nVal is  root\nVal is  root\nVal is  root\nVal is  root\nVal is  root\nVal is  root\nVal is  root\nVal is  root\nVal is  root\nVal is  root\nVal is  root\nVal is  root\nVal is  root\nVal is  root\nVal is  root\nVal is  root\nVal is  root\nVal is  root\nVal is  root\nVal is  root\nVal is  root\nVal is  root\nVal is  root\nVal is  root\nVal is  root\nVal is  root\nVal is  root\nVal is  root\nVal is  root\nVal is  root\nVal is  root\nVal is  root\nVal is  root\nVal is  root\nVal is  root\nVal is  root\nVal is  root\nVal is  root\nVal is  root\nVal is  root\nVal is  root\nVal is  root\nVal is  root\nVal is  root\nVal is  root\nVal is  root\nVal is  root\nVal is  root\nVal is  root\nVal is  root\nVal is  root\nVal is  root\nVal is  root\nVal is  root\nVal is  root\nVal is  root\nVal is  root\nVal is  root\nVal is  root\nVal is  root\nVal is  root\nVal is  root\nVal is  root\nVal is  root\nVal is  root\nVal is  root\nVal is  root\nVal is  root\nVal is  root\nVal is  root\nVal is  root\nVal is  root\nVal is  root\nVal is  root\nVal is  root\nVal is  root\nVal is  root\nVal is  root\nVal is  root\nVal is  root\nVal is  root\nVal is  root\nVal is  root\nVal is  root\nVal is  root\nVal is  root\nVal is  root\nVal is  root\nVal is  root\nVal is  root\nVal is  root\nVal is  root\nVal is  root\nVal is  root\nVal is  root\nVal is  root\nVal is  root\nVal is  root\nVal is  root\nVal is  root\nVal is  root\nVal is  root\nVal is  root\nVal is  root\nVal is  root\nVal is  root\nVal is  root\nVal is  root\nVal is  root\nVal is  root\nVal is  root\nVal is  root\nVal is  root\nVal is  root\nVal is  root\nVal is  root\nVal is  root\nVal is  root\nVal is  root\nVal is  root\nVal is  root\nVal is  root\nVal is  root\nVal is  root\nVal is  root\nVal is  root\nVal is  root\nVal is  root\nVal is  root\nVal is  root\nVal is  root\nVal is  root\nVal is  root\nVal is  root\nVal is  root\nVal is  root\nVal is  root\nVal is  root\nVal is  root\nVal is  root\nVal is  root\nVal is  root\nVal is  root\nVal is  root\nVal is  root\nVal is  root\nVal is  root\nVal is  root\nVal is  root\nVal is  root\nVal is  root\nVal is  root\nVal is  root\nVal is  root\nVal is  root\nVal is  root\nVal is  root\nVal is  root\nVal is  root\nVal is  root\nVal is  root\nVal is  root\nVal is  root\nVal is  root\nVal is  root\nVal is  root\nVal is  root\nVal is  root\nVal is  root\nVal is  root\nVal is  root\nVal is  root\nVal is  root\nVal is  root\nVal is  root\nVal is  root\nVal is  root\nVal is  root\nVal is  root\nVal is  root\nVal is  root\nVal is  root\nVal is  root\nVal is  root\nVal is  root\nVal is  root\nVal is  root\nVal is  root\nVal is  root\nVal is  root\nVal is  root\nVal is  root\nVal is  root\nVal is  root\nVal is  root\nVal is  root\nVal is  root\nVal is  root\nVal is  root\nVal is  root\nVal is  root\nVal is  root\nVal is  root\nVal is  root\nVal is  root\nVal is  root\nVal is  root\nVal is  root\nVal is  root\nVal is  root\nVal is  root\nVal is  root\nVal is  root\nVal is  root\nVal is  root\nVal is  root\nVal is  root\nVal is  root\nVal is  root\nVal is  root\nVal is  root\nVal is  root\nVal is  root\nVal is  root\nVal is  root\nVal is  root\nVal is  root\nVal is  root\nVal is  root\nVal is  root\nVal is  root\nVal is  root\nVal is  root\nVal is  root\nVal is  root\nVal is  root\nVal is  root\nVal is  root\nVal is  root\nVal is  root\nVal is  root\nVal is  root\nVal is  root\nVal is  root\nVal is  root\nVal is  root\nVal is  root\nVal is  root\nVal is  root\nVal is  root\nVal is  root\nVal is  root\nVal is  root\nVal is  root\nVal is  root\nVal is  root\nVal is  root\nVal is  root\nVal is  root\nVal is  root\nVal is  root\nVal is  root\nVal is  root\nVal is  root\nVal is  root\nVal is  root\nVal is  root\nVal is  root\nVal is  root\nVal is  root\nVal is  root\nVal is  root\nVal is  root\nVal is  root\nVal is  root\nVal is  root\nVal is  root\nVal is  root\nVal is  root\nVal is  root\nVal is  root\nVal is  root\nVal is  root\nVal is  root\nVal is  root\nVal is  root\nVal is  root\nVal is  root\nVal is  root\nVal is  root\nVal is  root\nVal is  root\nVal is  root\nVal is  root\nVal is  root\nVal is  root\nVal is  root\nVal is  root\nVal is  root\nVal is  root\nVal is  root\nVal is  root\nVal is  root\nVal is  root\nVal is  root\nVal is  root\nVal is  root\nVal is  root\nVal is  root\nVal is  root\nVal is  root\nVal is  root\nVal is  root\nVal is  root\nVal is  root\nVal is  root\nVal is  root\nVal is  root\nVal is  root\nVal is  root\nVal is  root\nVal is  root\nVal is  root\nVal is  root\nVal is  root\nVal is  root\nVal is  root\nVal is  root\nVal is  root\nVal is  root\nVal is  root\nVal is  root\nVal is  root\nVal is  root\nVal is  root\nVal is  root\nVal is  root\nVal is  root\nVal is  root\nVal is  root\nVal is  root\nVal is  root\nVal is  root\nVal is  root\nVal is  root\nVal is  root\nVal is  root\nVal is  root\nVal is  root\nVal is  root\nVal is  root\nVal is  root\nVal is  root\nVal is  root\nVal is  root\nVal is  root\nVal is  root\nVal is  root\nVal is  root\nVal is  root\nVal is  root\nVal is  root\nVal is  root\nVal is  root\nVal is  root\nVal is  root\nVal is  root\nVal is  root\nVal is  root\nVal is  root\nVal is  root\nVal is  root\nVal is  root\nVal is  root\nVal is  root\nVal is  root\nVal is  root\nVal is  root\nVal is  root\nVal is  root\nVal is  root\nVal is  root\nVal is  root\nVal is  root\nVal is  root\nVal is  root\nVal is  root\nVal is  root\nVal is  root\nVal is  root\nVal is  root\nVal is  root\nVal is  root\nVal is  root\nVal is  root\nVal is  root\nVal is  root\nVal is  root\nVal is  root\nVal is  root\nVal is  root\nVal is  root\nVal is  root\nVal is  root\nVal is  root\nVal is  root\nVal is  root\nVal is  root\nVal is  root\nVal is  root\nVal is  root\nVal is  root\nVal is  root\nVal is  root\nVal is  root\nVal is  root\nVal is  root\nVal is  root\nVal is  root\nVal is  root\nVal is  root\nVal is  root\nVal is  root\nVal is  root\nVal is  root\nVal is  root\nVal is  root\nVal is  root\nVal is  root\nVal is  root\nVal is  root\nVal is  root\nVal is  root\nVal is  root\nVal is  root\nVal is  root\nVal is  root\nVal is  root\nVal is  root\nVal is  root\nVal is  root\nVal is  root\nVal is  root\nVal is  root\nVal is  root\nVal is  root\nVal is  root\nVal is  root\nVal is  root\nVal is  root\nVal is  root\nVal is  root\nVal is  root\nVal is  root\nVal is  root\nVal is  root\nVal is  root\nVal is  root\nVal is  root\nVal is  root\nVal is  root\nVal is  root\nVal is  root\nVal is  root\nVal is  root\nVal is  root\nVal is  root\nVal is  root\nVal is  root\nVal is  root\nVal is  root\nVal is  root\nVal is  root\nVal is  root\nVal is  root\nVal is  root\nVal is  root\nVal is  root\nVal is  root\nVal is  root\nVal is  root\nVal is  root\nVal is  root\nVal is  root\nVal is  root\nVal is  root\nVal is  root\nVal is  root\nVal is  root\nVal is  root\nVal is  root\nVal is  root\nVal is  root\nVal is  root\nVal is  root\nVal is  root\nVal is  root\nVal is  root\nVal is  root\nVal is  root\nVal is  root\nVal is  root\nVal is  root\nVal is  root\nVal is  root\nVal is  root\nVal is  root\nVal is  root\nVal is  root\nVal is  root\nVal is  root\nVal is  root\nVal is  root\nVal is  root\nVal is  root\nVal is  root\nVal is  root\nVal is  root\nVal is  root\nVal is  root\nVal is  root\nVal is  root\nVal is  root\nVal is  root\nVal is  root\nVal is  root\nVal is  root\nVal is  root\nVal is  root\nVal is  root\nVal is  root\nVal is  root\nVal is  root\nVal is  root\nVal is  root\nVal is  root\nVal is  root\nVal is  root\nVal is  root\nVal is  root\nVal is  root\nVal is  root\nVal is  root\nVal is  root\nVal is  root\nVal is  root\nVal is  root\nVal is  root\nVal is  root\nVal is  root\nVal is  root\nVal is  root\nVal is  root\nVal is  root\nVal is  root\nVal is  root\nVal is  root\nVal is  root\nVal is  root\nVal is  root\nVal is  root\nVal is  root\nVal is  root\nVal is  root\nVal is  root\nVal is  root\nVal is  root\nVal is  root\nVal is  root\nVal is  root\nVal is  root\nVal is  root\nVal is  root\nVal is  root\nVal is  root\nVal is  root\nVal is  root\nVal is  root\nVal is  root\nVal is  root\nVal is  root\nVal is  root\nVal is  root\nVal is  root\nVal is  root\nVal is  root\nVal is  root\nVal is  root\nVal is  root\nVal is  root\nVal is  root\nVal is  root\nVal is  root\nVal is  root\nVal is  root\nVal is  root\nVal is  root\nVal is  root\nVal is  root\nVal is  root\nVal is  root\nVal is  root\nVal is  root\nVal is  root\nVal is  root\nVal is  root\nVal is  root\nVal is  root\nVal is  root\nVal is  root\nVal is  root\nVal is  root\nVal is  root\nVal is  root\nVal is  root\nVal is  root\nVal is  root\nVal is  root\nVal is  root\nVal is  root\nVal is  root\nVal is  root\nVal is  root\nVal is  root\nVal is  root\nVal is  root\nVal is  root\nVal is  root\nVal is  root\nVal is  root\nVal is  root\nVal is  root\nVal is  root\nVal is  root\nVal is  root\nVal is  root\nVal is  root\nVal is  root\nVal is  root\nVal is  root\nVal is  root\nVal is  root\nVal is  root\nVal is  root\nVal is  root\nVal is  root\nVal is  root\nVal is  root\nVal is  root\nVal is  root\nVal is  root\nVal is  root\nVal is  root\nVal is  root\nVal is  root"
     ]
    },
    {
     "name": "stdout",
     "output_type": "stream",
     "text": [
      "\nVal is  root\nVal is  root\nVal is  root\nVal is  root\nVal is  root\nVal is  root\nVal is  root\nVal is  root\nVal is  root\nVal is  root\nVal is  root\nVal is  root\nVal is  root\nVal is  root\nVal is  root\nVal is  root\nVal is  root\nVal is  root\nVal is  root\nVal is  root\nVal is  root\nVal is  root\nVal is  root\nVal is  root\nVal is  root\nVal is  root\nVal is  root\nVal is  root\nVal is  root\nVal is  root\nVal is  root\nVal is  root\nVal is  root\nVal is  root\nVal is  root\nVal is  root\nVal is  root\nVal is  root\nVal is  root\nVal is  root\nVal is  root\nVal is  root\nVal is  root\nVal is  root\nVal is  root\nVal is  root\nVal is  root\nVal is  root\nVal is  root\nVal is  root\nVal is  root\nVal is  root\nVal is  root\nVal is  root\nVal is  root\nVal is  root\nVal is  root\nVal is  root\nVal is  root\nVal is  root\nVal is  root\nVal is  root\nVal is  root\nVal is  root\nVal is  root\nVal is  root\nVal is  root\nVal is  root\nVal is  root\nVal is  root\nVal is  root\nVal is  root\nVal is  root\nVal is  root\nVal is  root\nVal is  root\nVal is  root\nVal is  root\nVal is  root\nVal is  root\nVal is  root\nVal is  root\nVal is  root\nVal is  root\nVal is  root\nVal is  root\nVal is  root\nVal is  root\nVal is  root\nVal is  root\nVal is  root\nVal is  root\nVal is  root\nVal is  root\nVal is  root\nVal is  root\nVal is  root\nVal is  root\nVal is  root\nVal is  root\nVal is  root\nVal is  root\nVal is  root\nVal is  root\nVal is  root\nVal is  root\nVal is  root\nVal is  root\nVal is  root\nVal is  root\nVal is  root\nVal is  root\nVal is  root\nVal is  root\nVal is  root\nVal is  root\nVal is  root\nVal is  root\nVal is  root\nVal is  root\nVal is  root\nVal is  root\nVal is  root\nVal is  root\nVal is  root\nVal is  root\nVal is  root\nVal is  root\nVal is  root\nVal is  root\nVal is  root\nVal is  root\nVal is  root\nVal is  root\nVal is  root\nVal is  root\nVal is  root\nVal is  root\nVal is  root\nVal is  root\nVal is  root\nVal is  root\nVal is  root\nVal is  root\nVal is  root\nVal is  root\nVal is  root\nVal is  root\nVal is  root\nVal is  root\nVal is  root\nVal is  root\nVal is  root\nVal is  root\nVal is  root\nVal is  root\nVal is  root\nVal is  root\nVal is  root\nVal is  root\nVal is  root\nVal is  root\nVal is  root\nVal is  root\nVal is  root\nVal is  root\nVal is  root\nVal is  root\nVal is  root\nVal is  root\nVal is  root\nVal is  root\nVal is  root\nVal is  root\nVal is  root\nVal is  root\nVal is  root\nVal is  root\nVal is  root\nVal is  root\nVal is  root\nVal is  root\nVal is  root\nVal is  root\nVal is  root\nVal is  root\nVal is  root\nVal is  root\nVal is  root\nVal is  root\nVal is  root\nVal is  root\nVal is  root\nVal is  root\nVal is  root\nVal is  root\nVal is  root\nVal is  root\nVal is  root\nVal is  root\nVal is  root\nVal is  root\nVal is  root\nVal is  root\nVal is  root\nVal is  root\nVal is  root\nVal is  root\nVal is  root\nVal is  root\nVal is  root\nVal is  root\nVal is  root\nVal is  root\nVal is  root\nVal is  root\nVal is  root\nVal is  root\nVal is  root\nVal is  root\nVal is  root\nVal is  root\nVal is  root\nVal is  root\nVal is  root\nVal is  root\nVal is  root\nVal is  root\nVal is  root\nVal is  root\nVal is  root\nVal is  root\nVal is  root\nVal is  root\nVal is  root\nVal is  root\nVal is  root\nVal is  root\nVal is  root\nVal is  root\nVal is  root\nVal is  root\nVal is  root\nVal is  root\nVal is  root\nVal is  root\nVal is  root\nVal is  root\nVal is  root\nVal is  root\nVal is  root\nVal is  root\nVal is  root\nVal is  root\nVal is  root\nVal is  root\nVal is  root\nVal is  root\nVal is  root\nVal is  root\nVal is "
     ]
    },
    {
     "name": "stdout",
     "output_type": "stream",
     "text": [
      " root\nVal is  root\nVal is  root\nVal is  root\nVal is  root\nVal is  root\nVal is  root\nVal is  root\nVal is  root\nVal is  root\nVal is  root\nVal is  root\nVal is  root\nVal is  root\nVal is  root\nVal is  root\nVal is  root\nVal is  root\nVal is  root\nVal is  root\nVal is  root\nVal is  root\nVal is  root\nVal is  root\nVal is  root\nVal is  root\nVal is  root\nVal is  root\nVal is  root\nVal is  root\nVal is  root\nVal is  root\nVal is  root\nVal is  root\nVal is  root\nVal is  root\nVal is  root\nVal is  root\nVal is  root\nVal is  root\nVal is  root\nVal is  root\nVal is  root\nVal is  root\nVal is  root\nVal is  root\nVal is  root\nVal is  root\nVal is  root\nVal is  root\nVal is  root\nVal is  root\nVal is  root\nVal is  root\nVal is  root\nVal is  root\nVal is  root\nVal is  root\nVal is  root\nVal is  root\nVal is  root\nVal is  root\nVal is  root\nVal is  root\nVal is  root\nVal is  root\nVal is  root\nVal is  root\nVal is  root\nVal is  root\nVal is  root\nVal is  root\nVal is  root\nVal is  root\nVal is  root\nVal is  root\nVal is  root\nVal is  root\nVal is  root\nVal is  root\nVal is  root\nVal is  root\nVal is  root\nVal is  root\nVal is  root\nVal is  root\nVal is  root\nVal is  root\nVal is  root\nVal is  root\nVal is  root\nVal is  root\nVal is  root\nVal is  root\nVal is  root\nVal is  root\nVal is  root\nVal is  root\nVal is  root\nVal is  root\nVal is  root\nVal is  root\nVal is  root\nVal is  root\nVal is  root\nVal is  root\nVal is  root\nVal is  root\nVal is  root\nVal is  root\nVal is  root\nVal is  root\nVal is  root\nVal is  root\nVal is  root\nVal is  root\nVal is  root\nVal is  root\nVal is  root\nVal is  root\nVal is  root\nVal is  root\nVal is  root\nVal is  root\nVal is  root\nVal is  root\nVal is  root\nVal is  root\nVal is  root\nVal is  root\nVal is  root\nVal is  root\nVal is  root\nVal is  root\nVal is  root\nVal is  root\nVal is  root\nVal is  root\nVal is  root\nVal is  root\nVal is  root\nVal is  root\nVal is  root\nVal is  root\nVal is  root\nVal is  root\nVal is  root\nVal is  root\nVal is  root\nVal is  root\nVal is  root\nVal is  root\nVal is  root\nVal is  root\nVal is  root\nVal is  root\nVal is  root\nVal is  root\nVal is  root\nVal is  root\nVal is  root\nVal is  root\nVal is  root\nVal is  root\nVal is  root\nVal is  root\nVal is  root\nVal is  root\nVal is  root\nVal is  root\nVal is  root\nVal is  root\nVal is  root\nVal is  root\nVal is  root\nVal is  root\nVal is  root\nVal is  root\nVal is  root\nVal is  root\nVal is  root\nVal is  root\nVal is  root\nVal is  root\nVal is  root\nVal is  root\nVal is  root\nVal is  root\nVal is  root\nVal is  root\nVal is  root\nVal is  root\nVal is  root\nVal is  root\nVal is  root\nVal is  root\nVal is  root\nVal is  root\nVal is  root\nVal is  root\nVal is  root\nVal is  root\nVal is  root\nVal is  root\nVal is  root\nVal is  root\nVal is  root\nVal is  root\nVal is  root\nVal is  root\nVal is  root\nVal is  root\nVal is  root\nVal is  root\nVal is  root\nVal is  root\nVal is  root\nVal is  root\nVal is  root\nVal is  root\nVal is  root\nVal is  root\nVal is  root\nVal is  root\nVal is  root\nVal is  root\nVal is  root\nVal is  root\nVal is  root\nVal is  root\nVal is  root\nVal is  root\nVal is  root\nVal is  root\nVal is  root\nVal is  root\nVal is  root\nVal is  root\nVal is  root\nVal is  root\nVal is  root\nVal is  root\nVal is  root\nVal is  root\nVal is  root\nVal is  root\nVal is  root\nVal is  root\nVal is  root\nVal is  root\nVal is  root\nVal is  root\nVal is  root\nVal is  root\nVal is  root\nVal is  root\nVal is  root\nVal is  root\nVal is  root\nVal is  root\nVal is  root\nVal is  root\nVal is  root\nVal is  root\nVal is  root\nVal is  root\nVal is  root\nVal is  root\nVal is  root\nVal is  root\nVal is  root\nVal is  root\nVal is  root\nVal is  root\nVal is  root\nVal is  root\nVal is  root\nVal is  root\nVal is  root\nVal is  root\nVal is  root\nVal is  root\nVal is  root\nVal is  root\nVal is  root\nVal is  root\nVal is  root\nVal is  root\nVal is  root\nVal is  root\nVal is  root\nVal is  root\nVal is  root\nVal is  root\nVal is  root\nVal is  root\nVal is  root\nVal is  root\nVal is  root\nVal is  root\nVal is  root\nVal is  root\nVal is  root\nVal is  root\nVal is  root\nVal is  root\nVal is  root\nVal is  root\nVal is  root\nVal is  root\nVal is  root\nVal is  root\nVal is  root\nVal is  root\nVal is  root\nVal is  root\nVal is  root\nVal is  root\nVal is  root\nVal is  root\nVal is  root\nVal is  root\nVal is  root\nVal is  root\nVal is  root\nVal is  root\nVal is  root\nVal is  root\nVal is  root\nVal is  root\nVal is  root\nVal is  root\nVal is  root\nVal is  root\nVal is  root\nVal is  root\nVal is  root\nVal is  root\nVal is  root\nVal is  root\nVal is  root\nVal is  root\nVal is  root\nVal is  root\nVal is  root\nVal is  root\nVal is  root\nVal is  root\nVal is  root\nVal is  root\nVal is  root\nVal is  root\nVal is  root\nVal is  root\nVal is  root\nVal is  root\nVal is  root\nVal is  root\nVal is  root\nVal is  root\nVal is  root\nVal is  root\nVal is  root\nVal is  root\nVal is  root\nVal is  root\nVal is  root\nVal is  root\nVal is  root\nVal is  root\nVal is  root\nVal is  root\nVal is  root\nVal is  root\nVal is  root\nVal is  root\nVal is  root\nVal is  root\nVal is  root\nVal is  root\nVal is  root\nVal is  root\nVal is  root\nVal is  root\nVal is  root\nVal is  root\nVal is  root\nVal is  root\nVal is  root\nVal is  root\nVal is  root\nVal is  root\nVal is  root\nVal is  root\nVal is  root\nVal is  root\nVal is  root\nVal is  root\nVal is  root\nVal is  root\nVal is  root\nVal is  root\nVal is  root\nVal is  root\nVal is  root\nVal is  root\nVal is  root\nVal is  root\nVal is  root\nVal is  root\nVal is  root\nVal is  root\nVal is  root\nVal is  root\nVal is  root\nVal is  root\nVal is  root\nVal is  root\nVal is  root\nVal is  root\nVal is  root\nVal is  root\nVal is  root\nVal is  root\nVal is  root\nVal is  root\nVal is  root\nVal is  root\nVal is  root\nVal is  root\nVal is  root\nVal is  root\nVal is  root\nVal is  root\nVal is  root\nVal is  root\nVal is  root\nVal is  root\nVal is  root\nVal is  root\nVal is  root\nVal is  root\nVal is  root\nVal is  root\nVal is  root\nVal is  root\nVal is  root\nVal is  root\nVal is  root\nVal is  root\nVal is  root\nVal is  root\nVal is  root\nVal is  root\nVal is  root\nVal is  root\nVal is  root\nVal is  root\nVal is  root\nVal is  root\nVal is  root\nVal is  root\nVal is  root\nVal is  root\nVal is  root\nVal is  root\nVal is  root\nVal is  root\nVal is  root\nVal is  root\nVal is  root\nVal is  root\nVal is  root\nVal is  root\nVal is  root\nVal is  root\nVal is  root\nVal is  root\nVal is  root\nVal is  root\nVal is  root\nVal is  root\nVal is  root\nVal is  root\nVal is  root\nVal is  root\nVal is  root\nVal is  root\nVal is  root\nVal is  root\nVal is  root\nVal is  root\nVal is  root\nVal is  root\nVal is  root\nVal is  root\nVal is  root\nVal is  root\nVal is  root\nVal is  root\n"
     ]
    },
    {
     "name": "stdout",
     "output_type": "stream",
     "text": [
      "Val is  root\nVal is  root\nVal is  root\nVal is  root\nVal is  root\nVal is  root\nVal is  root\nVal is  root\nVal is  root\nVal is  root\nVal is  root\nVal is  root\nVal is  root\nVal is  root\nVal is  root\nVal is  root\nVal is  root\nVal is  root\nVal is  root\nVal is  root\nVal is  root\nVal is  root\nVal is  root\nVal is  root\nVal is  root\nVal is  root\nVal is  root\nVal is  root\nVal is  root\nVal is  root\nVal is  root\nVal is  root\nVal is  root\nVal is  root\nVal is  root\nVal is  root\nVal is  root\nVal is  root\nVal is  root\nVal is  root\nVal is  root\nVal is  root\nVal is  root\nVal is  root\nVal is  root\nVal is  root\nVal is  root\nVal is  root\nVal is  root\nVal is  root\nVal is  root\nVal is  root\nVal is  root\nVal is  root\nVal is  root\nVal is  root\nVal is  root\nVal is  root\nVal is  root\nVal is  root\nVal is  root\nVal is  root\nVal is  root\nVal is  root\nVal is  root\nVal is  root\nVal is  root\nVal is  root\nVal is  root\nVal is  root\nVal is  root\nVal is  root\nVal is  root\nVal is  root\nVal is  root\nVal is  root\nVal is  root\nVal is  root\nVal is  root\nVal is  root\nVal is  root\nVal is  root\nVal is  root\nVal is  root\nVal is  root\nVal is  root\nVal is  root\nVal is  root\nVal is  root\nVal is  root\nVal is  root\nVal is  root\nVal is  root\nVal is  root\nVal is  root\nVal is  root\nVal is  root\nVal is  root\nVal is  root\nVal is  root\nVal is  root\nVal is  root\nVal is  root\nVal is  root\nVal is  root\nVal is  root\nVal is  root\nVal is  root\nVal is  root\nVal is  root\nVal is  root\nVal is  root\nVal is  root\nVal is  root\nVal is  root\nVal is  root\nVal is  root\nVal is  root\nVal is  root\nVal is  root\nVal is  root\nVal is  root\nVal is  root\nVal is  root\nVal is  root\nVal is  root\nVal is  root\nVal is  root\nVal is  root\nVal is  root\nVal is  root\nVal is  root\nVal is  root\nVal is  root\nVal is  root\nVal is  root\nVal is  root\nVal is  root\nVal is  root\nVal is  root\nVal is  root\nVal is  root\nVal is  root\nVal is  root\nVal is  root\nVal is  root\nVal is  root\nVal is  root\nVal is  root\nVal is  root\nVal is  root\nVal is  root\nVal is  root\nVal is  root\nVal is  root\nVal is  root\nVal is  root\nVal is  root\nVal is  root\nVal is  root\nVal is  root\nVal is  root\nVal is  root\nVal is  root\nVal is  root\nVal is  root\nVal is  root\nVal is  root\nVal is  root\nVal is  root\nVal is  root\nVal is  root\nVal is  root\nVal is  root\nVal is  root\nVal is  root\nVal is  root\nVal is  root\nVal is  root\nVal is  root\nVal is  root\nVal is  root\nVal is  root\nVal is  root\nVal is  root\nVal is  root\nVal is  root\nVal is  root\nVal is  root\nVal is  root\nVal is  root\nVal is  root\nVal is  root\nVal is  root\nVal is  root\nVal is  root\nVal is  root\nVal is  root\nVal is  root\nVal is  root\nVal is  root\nVal is  root\nVal is  root\nVal is  root\nVal is  root\nVal is  root\nVal is  root\nVal is  root\nVal is  root\nVal is  root\nVal is  root\nVal is  root\nVal is  root\nVal is  root\nVal is  root\nVal is  root\nVal is  root\nVal is  root\nVal is  root\nVal is  root\nVal is  root\nVal is  root\nVal is  root\nVal is  root\nVal is  root\nVal is  root\nVal is  root\nVal is  root\nVal is  root\nVal is  root\nVal is  root\nVal is  root\nVal is  root\nVal is  root\nVal is  root\nVal is  root\nVal is  root\nVal is  root\nVal is  root\nVal is  root\nVal is  root\nVal is  root\nVal is  root\nVal is  root\nVal is  root\nVal is  root\nVal is  root\nVal is  root\nVal is  root\nVal is  root\nVal is  root\nVal is  root\nVal is  root\nVal is  root\nVal is  root\nVal is  root\nVal is  root\nVal is  root\nVal is  root\nVal is  root\nVal is  root\nVal is  root\nVal is  root\nVal is  root\nVal is  root\nVal is  root\nVal is  root\nVal is  root\nVal is  root\nVal is  root\nVal is  root\nVal is  root\nVal is  root\nVal is  root\nVal is  root\nVal is  root\nVal is  root\nVal is  root\nVal is  root\nVal is  root\nVal is  root\nVal is  root\nVal is  root\nVal is  root\nVal is  root\nVal is  root\nVal is  root\nVal is  root\nVal is  root\nVal is  root\nVal is  root\nVal is  root\nVal is  root\nVal is  root\nVal is  root\nVal is  root\nVal is  root\nVal is  root\nVal is  root\nVal is  root\nVal is  root\nVal is  root\nVal is  root\nVal is  root\nVal is  root\nVal is  root\nVal is  root\nVal is  root\nVal is  root\nVal is  root\nVal is  root\nVal is  root\nVal is  root\nVal is  root\nVal is  root\nVal is  root\nVal is  root\nVal is  root\nVal is  root\nVal is  root\nVal is  root\nVal is  root\nVal is  root\nVal is  root\nVal is  root\nVal is  root\nVal is  root\nVal is  root\nVal is  root\nVal is  root\nVal is  root\nVal is  root\nVal is  root\nVal is  root\nVal is  root\nVal is  root\nVal is  root\nVal is  root\nVal is  root\nVal is  root\nVal is  root\nVal is  root\nVal is  root\nVal is  root\nVal is  root\nVal is  root\nVal is  root\nVal is  root\nVal is  root\nVal is  root\nVal is  root\nVal is  root\nVal is  root\nVal is  root\nVal is  root\nVal is  root\nVal is  root\nVal is  root\nVal is  root\nVal is  root\nVal is  root\nVal is  root\nVal is  root\nVal is  root\nVal is  root\nVal is  root\nVal is  root\nVal is  root\nVal is  root\nVal is  root\nVal is  root\nVal is  root\nVal is  root\nVal is  root\nVal is  root\nVal is  root\nVal is  root\nVal is  root\nVal is  root\nVal is  root\nVal is  root\nVal is  root\nVal is  root\nVal is  root\nVal is  root\nVal is  root\nVal is  root\nVal is  root\nVal is  root\nVal is  root\nVal is  root\nVal is  root\nVal is  root\nVal is  root\nVal is  root\nVal is  root\nVal is  root\nVal is  root\nVal is  root\nVal is  root\nVal is  root\nVal is  root\nVal is  root\nVal is  root\nVal is  root\nVal is  root\nVal is  root\nVal is  root\nVal is  root\nVal is  root\nVal is  root\nVal is  root\nVal is  root\nVal is  root\nVal is  root\nVal is  root\nVal is  root\nVal is  root\nVal is  root\nVal is  root\nVal is  root\nVal is  root\nVal is  root\nVal is  root\nVal is  root\nVal is  root\nVal is  root\nVal is  root\nVal is  root\nVal is  root\nVal is  root\nVal is  root\nVal is  root\nVal is  root\nVal is  root\nVal is  root\nVal is  root\nVal is  root\nVal is  root\nVal is  root\nVal is  root\nVal is  root\nVal is  root\nVal is  root\nVal is  root\nVal is  root\nVal is  root\nVal is  root\nVal is  root\nVal is  root\nVal is  root\nVal is  root\nVal is  root\nVal is  root\nVal is  root\nVal is  root\nVal is  root\nVal is  root\nVal is  root\nVal is  root\nVal is  root\nVal is  root\nVal is  root\nVal is  root\nVal is  root\nVal is  root\nVal is  root\nVal is  root\nVal is  root\nVal is  root\nVal is  root\nVal is  root\nVal is  root\nVal is  root\nVal is  root\nVal is  root\nVal is  root\nVal is  root\nVal is  root\nVal is  root\nVal is  root\nVal is  root\nVal is  root\nVal is  root\nVal is  root\nVal is  root\nVal is  root\nVal is  root\nVal is  root\nVal is  root\nVal is  root\nVal is  root\nVal is  root\nVal is  root\nVal is  root\nVal is  root\nVal is  root\nVal is  root\nVal is  root\nVal is  root"
     ]
    },
    {
     "name": "stdout",
     "output_type": "stream",
     "text": [
      "\nVal is  root\nVal is  root\nVal is  root\nVal is  root\nVal is  root\nVal is  root\nVal is  root\nVal is  root\nVal is  root\nVal is  root\nVal is  root\nVal is  root\nVal is  root\nVal is  root\nVal is  root\nVal is  root\nVal is  root\nVal is  root\nVal is  root\nVal is  root\nVal is  root\nVal is  root\nVal is  root\nVal is  root\nVal is  root\nVal is  root\nVal is  root\nVal is  root\nVal is  root\nVal is  root\nVal is  root\nVal is  root\nVal is  root\nVal is  root\nVal is  root\nVal is  root\nVal is  root\nVal is  root\nVal is  root\nVal is  root\nVal is  root\nVal is  root\nVal is  root\nVal is  root\nVal is  root\nVal is  root\nVal is  root\nVal is  root\nVal is  root\nVal is  root\nVal is  root\nVal is  root\nVal is  root\nVal is  root\nVal is  root\nVal is  root\nVal is  root\nVal is  root\nVal is  root\nVal is  root\nVal is  root\nVal is  root\nVal is  root\nVal is  root\nVal is  root\nVal is  root\nVal is  root\nVal is  root\nVal is  root\nVal is  root\nVal is  root\nVal is  root\nVal is  root\nVal is  root\nVal is  root\nVal is  root\nVal is  root\nVal is  root\nVal is  root\nVal is  root\nVal is  root\nVal is  root\nVal is  root\nVal is  root\nVal is  root\nVal is  root\nVal is  root\nVal is  root\nVal is  root\nVal is  root\nVal is  root\nVal is  root\nVal is  root\nVal is  root\nVal is  root\nVal is  root\nVal is  root\nVal is  root\nVal is  root\nVal is  root\nVal is  root\nVal is  root\nVal is  root\nVal is  root\nVal is  root\nVal is  root\nVal is  root\nVal is  root\nVal is  root\nVal is  root\nVal is  root\nVal is  root\nVal is  root\nVal is  root\nVal is  root\nVal is  root\nVal is  root\nVal is  root\nVal is  root\nVal is  root\nVal is  root\nVal is  root\nVal is  root\nVal is  root\nVal is  root\nVal is  root\nVal is  root\nVal is  root\nVal is  root\nVal is  root\nVal is  root\nVal is  root\nVal is  root\nVal is  root\nVal is  root\nVal is  root\nVal is  root\nVal is  root\nVal is  root\nVal is  root\nVal is  root\nVal is  root\nVal is  root\nVal is  root\nVal is  root\nVal is  root\nVal is  root\nVal is  root\nVal is  root\nVal is  root\nVal is  root\nVal is  root\nVal is  root\nVal is  root\nVal is  root\nVal is  root\nVal is  root\nVal is  root\nVal is  root\nVal is  root\nVal is  root\nVal is  root\nVal is  root\nVal is  root\nVal is  root\nVal is  root\nVal is  root\nVal is  root\nVal is  root\nVal is  root\nVal is  root\nVal is  root\nVal is  root\nVal is  root\nVal is  root\nVal is  root\nVal is  root\nVal is  root\nVal is  root\nVal is  root\nVal is  root\nVal is  root\nVal is  root\nVal is  root\nVal is  root\nVal is  root\nVal is  root\nVal is  root\nVal is  root\nVal is  root\nVal is  root\nVal is  root\nVal is  root\nVal is  root\nVal is  root\nVal is  root\nVal is  root\nVal is  root\nVal is  root\nVal is  root\nVal is  root\nVal is  root\nVal is  root\nVal is  root\nVal is  root\nVal is  root\nVal is  root\nVal is  root\nVal is  root\nVal is  root\nVal is  root\nVal is  root\nVal is  root\nVal is  root\nVal is  root\nVal is  root\nVal is  root\nVal is  root\nVal is  root\nVal is  root\nVal is  root\nVal is  root\nVal is  root\nVal is  root\nVal is  root\nVal is  root\nVal is  root\nVal is  root\nVal is  root\nVal is  root\nVal is  root\nVal is  root\nVal is  root\nVal is  root\nVal is  root\nVal is  root\nVal is  root\nVal is  root\nVal is  root\nVal is  root\nVal is  root\nVal is  root\nVal is  root\nVal is  root\nVal is  root\nVal is  root\nVal is  root\nVal is  root\nVal is  root\nVal is  root\nVal is  root\nVal is  root\nVal is  root\nVal is  root\nVal is  root\nVal is  root\nVal is  root\nVal is  root\nVal is  root\nVal is  root\nVal is  root\nVal is  root\nVal is  root\nVal is  root\nVal is  root\nVal is  root\nVal is  root\nVal is  root\nVal is  root\nVal is  root\nVal is  root\nVal is  root\nVal is  root\nVal is  root\nVal is  root\nVal is  root\nVal is  root\nVal is  root\nVal is  root\nVal is  root\nVal is  root\nVal is  root\nVal is  root\nVal is  root\nVal is  root\nVal is  root\nVal is  root\nVal is  root\nVal is  root\nVal is  root\nVal is  root\nVal is  root\nVal is  root\nVal is  root\nVal is  root\nVal is  root\nVal is  root\nVal is  root\nVal is  root\nVal is  root\nVal is  root\nVal is  root\nVal is  root\nVal is  root\nVal is  root\nVal is  root\nVal is  root\nVal is  root\nVal is  root\nVal is  root\nVal is  root\nVal is  root\nVal is  root\nVal is  root\nVal is  root\nVal is  root\nVal is  root\nVal is  root\nVal is  root\nVal is  root\nVal is  root\nVal is  root\nVal is  root\nVal is  root\nVal is  root\nVal is  root\nVal is  root\nVal is  root\nVal is  root\nVal is  root\nVal is  root\nVal is  root\nVal is  root\nVal is  root\nVal is  root\nVal is  root\nVal is  root\nVal is  root\nVal is  root\nVal is  root\nVal is  root\nVal is  root\nVal is  root\nVal is  root\nVal is  root\nVal is  root\nVal is  root\nVal is  root\nVal is  root\nVal is  root\nVal is  root\nVal is  root\nVal is  root\nVal is  root\nVal is  root\nVal is  root\nVal is  root\nVal is  root\nVal is  root\nVal is  root\nVal is  root\nVal is  root\nVal is  root\nVal is  root\nVal is  root\nVal is  root\nVal is  root\nVal is  root\nVal is  root\nVal is  root\nVal is  root\nVal is  root\nVal is  root\nVal is  root\nVal is  root\nVal is  root\nVal is  root\nVal is  root\nVal is  root\nVal is  root\nVal is  root\nVal is  root\nVal is  root\nVal is  root\nVal is  root\nVal is  root\nVal is  root\nVal is  root\nVal is  root\nVal is  root\nVal is  root\nVal is  root\nVal is  root\nVal is  root\nVal is  root\nVal is  root\nVal is  root\nVal is  root\nVal is  root\nVal is  root\nVal is  root\nVal is  root\nVal is  root\nVal is  root\nVal is  root\nVal is  root\nVal is  root\nVal is  root\nVal is  root\nVal is  root\nVal is  root\nVal is  root\nVal is  root\nVal is  root\nVal is  root\nVal is  root\nVal is  root\nVal is  root\nVal is  root\nVal is  root\nVal is  root\nVal is  root\nVal is  root\nVal is  root\nVal is  root\nVal is  root\nVal is  root\nVal is  root\nVal is  root\nVal is  root\nVal is  root\nVal is  root\nVal is  root\nVal is  root\nVal is  root\nVal is  root\nVal is  root\nVal is  root\nVal is  root\nVal is  root\nVal is  root\nVal is  root\nVal is  root\nVal is  root\nVal is  root\nVal is  root\nVal is  root\nVal is  root\nVal is  root\nVal is  root\nVal is  root\nVal is  root\nVal is  root\nVal is  root\nVal is  root\nVal is  root\nVal is  root\nVal is  root\nVal is  root\nVal is  root\nVal is  root\nVal is  root\nVal is  root\nVal is  root\nVal is  root\nVal is  root\nVal is  root\nVal is  root\nVal is  root\nVal is  root\nVal is  root\nVal is  root\nVal is  root\nVal is  root\nVal is  root\nVal is  root\nVal is  root\nVal is  root\nVal is  root\nVal is  root\nVal is  root\nVal is  root\nVal is  root\nVal is  root\nVal is  root\nVal is  root\nVal is  root\nVal is  root\nVal is  root\nVal is  root\nVal is  root\nVal is  root\nVal is  root\nVal is  root\nVal is  root\nVal is  root\nVal is  root\nVal is  root\nVal is  root\nVal is  "
     ]
    },
    {
     "name": "stdout",
     "output_type": "stream",
     "text": [
      "root\nVal is  root\nVal is  root\nVal is  root\nVal is  root\nVal is  root\nVal is  root\nVal is  root\nVal is  root\nVal is  root\nVal is  root\nVal is  root\nVal is  root\nVal is  root\nVal is  root\nVal is  root\nVal is  root\nVal is  root\nVal is  root\nVal is  root\nVal is  root\nVal is  root\nVal is  root\nVal is  root\nVal is  root\nVal is  root\nVal is  root\nVal is  root\nVal is  root\nVal is  root\nVal is  root\nVal is  root\nVal is  root\nVal is  root\nVal is  root\nVal is  root\nVal is  root\nVal is  root\nVal is  root\nVal is  root\nVal is  root\nVal is  root\nVal is  root\nVal is  root\nVal is  root\nVal is  root\nVal is  root\nVal is  root\nVal is  root\nVal is  root\nVal is  root\nVal is  root\nVal is  root\nVal is  root\nVal is  root\nVal is  root\nVal is  root\nVal is  root\nVal is  root\nVal is  root\nVal is  root\nVal is  root\nVal is  root\nVal is  root\nVal is  root\nVal is  root\nVal is  root\nVal is  root\nVal is  root\nVal is  root\nVal is  root\nVal is  root\nVal is  root\nVal is  root\nVal is  root\nVal is  root\nVal is  root\nVal is  root\nVal is  root\nVal is  root\nVal is  root\nVal is  root\nVal is  root\nVal is  root\nVal is  root\nVal is  root\nVal is  root\nVal is  root\nVal is  root\nVal is  root\nVal is  root\nVal is  root\nVal is  root\nVal is  root\nVal is  root\nVal is  root\nVal is  root\nVal is  root\nVal is  root\nVal is  root\nVal is  root\nVal is  root\nVal is  root\nVal is  root\nVal is  root\nVal is  root\nVal is  root\nVal is  root\nVal is  root\nVal is  root\nVal is  root\nVal is  root\nVal is  root\nVal is  root\nVal is  root\nVal is  root\nVal is  root\nVal is  root\nVal is  root\nVal is  root\nVal is  root\nVal is  root\nVal is  root\nVal is  root\nVal is  root\nVal is  root\nVal is  root\nVal is  root\nVal is  root\nVal is  root\nVal is  root\nVal is  root\nVal is  root\nVal is  root\nVal is  root\nVal is  root\nVal is  root\nVal is  root\nVal is  root\nVal is  root\nVal is  root\nVal is  root\nVal is  root\nVal is  root\nVal is  root\nVal is  root\nVal is  root\nVal is  root\nVal is  root\nVal is  root\nVal is  root\nVal is  root\nVal is  root\nVal is  root\nVal is  root\nVal is  root\nVal is  root\nVal is  root\nVal is  root\nVal is  root\nVal is  root\nVal is  root\nVal is  root\nVal is  root\nVal is  root\nVal is  root\nVal is  root\nVal is  root\nVal is  root\nVal is  root\nVal is  root\nVal is  root\nVal is  root\nVal is  root\nVal is  root\nVal is  root\nVal is  root\nVal is  root\nVal is  root\nVal is  root\nVal is  root\nVal is  root\nVal is  root\nVal is  root\nVal is  root\nVal is  root\nVal is  root\nVal is  root\nVal is  root\nVal is  root\nVal is  root\nVal is  root\nVal is  root\nVal is  root\nVal is  root\nVal is  root\nVal is  root\nVal is  root\nVal is  root\nVal is  root\nVal is  root\nVal is  root\nVal is  root\nVal is  root\nVal is  root\nVal is  root\nVal is  root\nVal is  root\nVal is  root\nVal is  root\nVal is  root\nVal is  root\nVal is  root\nVal is  root\nVal is  root\nVal is  root\nVal is  root\nVal is  root\nVal is  root\nVal is  root\nVal is  root\nVal is  root\nVal is  root\nVal is  root\nVal is  root\nVal is  root\nVal is  root\nVal is  root\nVal is  root\nVal is  root\nVal is  root\nVal is  root\nVal is  root\nVal is  root\nVal is  root\nVal is  root\nVal is  root\nVal is  root\nVal is  root\nVal is  root\nVal is  root\nVal is  root\nVal is  root\nVal is  root\nVal is  root\nVal is  root\nVal is  root\nVal is  root\nVal is  root\nVal is  root\nVal is  root\nVal is  root\nVal is  root\nVal is  root\nVal is  root\nVal is  root\nVal is  root\nVal is  root\nVal is  root\nVal is  root\nVal is  root\nVal is  root\nVal is  root\nVal is  root\nVal is  root\nVal is  root\nVal is  root\nVal is  root\nVal is  root\nVal is  root\nVal is  root\nVal is  root\nVal is  root\nVal is  root\nVal is  root\nVal is  root\nVal is  root\nVal is  root\nVal is  root\nVal is  root\nVal is  root\nVal is  root\nVal is  root\nVal is  root\nVal is  root\nVal is  root\nVal is  root\nVal is  root\nVal is  root\nVal is  root\nVal is  root\nVal is  root\nVal is  root\nVal is  root\nVal is  root\nVal is  root\nVal is  root\nVal is  root\nVal is  root\nVal is  root\nVal is  root\nVal is  root\nVal is  root\nVal is  root\nVal is  root\nVal is  root\nVal is  root\nVal is  root\nVal is  root\nVal is  root\nVal is  root\nVal is  root\nVal is  root\nVal is  root\nVal is  root\nVal is  root\nVal is  root\nVal is  root\nVal is  root\nVal is  root\nVal is  root\nVal is  root\nVal is  root\nVal is  root\nVal is  root\nVal is  root\nVal is  root\nVal is  root\nVal is  root\nVal is  root\nVal is  root\nVal is  root\nVal is  root\nVal is  root\nVal is  root\nVal is  root\nVal is  root\nVal is  root\nVal is  root\nVal is  root\nVal is  root\nVal is  root\nVal is  root\nVal is  root\nVal is  root\nVal is  root\nVal is  root\nVal is  root\nVal is  root\nVal is  root\nVal is  root\nVal is  root\nVal is  root\nVal is  root\nVal is  root\nVal is  root\nVal is  root\nVal is  root\nVal is  root\nVal is  root\nVal is  root\nVal is  root\nVal is  root\nVal is  root\nVal is  root\nVal is  root\nVal is  root\nVal is  root\nVal is  root\nVal is  root\nVal is  root\nVal is  root\nVal is  root\nVal is  root\nVal is  root\nVal is  root\nVal is  root\nVal is  root\nVal is  root\nVal is  root\nVal is  root\nVal is  root\nVal is  root\nVal is  root\nVal is  root\nVal is  root\nVal is  root\nVal is  root\nVal is  root\nVal is  root\nVal is  root\nVal is  root\nVal is  root\nVal is  root\nVal is  root\nVal is  root\nVal is  root\nVal is  root\nVal is  root\nVal is  root\nVal is  root\nVal is  root\nVal is  root\nVal is  root\nVal is  root\nVal is  root\nVal is  root\nVal is  root\nVal is  root\nVal is  root\nVal is  root\nVal is  root\nVal is  root\nVal is  root\nVal is  root\nVal is  root\nVal is  root\nVal is  root\nVal is  root\nVal is  root\nVal is  root\nVal is  root\nVal is  root\nVal is  root\nVal is  root\nVal is  root\nVal is  root\nVal is  root\n"
     ]
    },
    {
     "ename": "RecursionError",
     "evalue": "maximum recursion depth exceeded while calling a Python object",
     "traceback": [
      "\u001b[1;31m---------------------------------------------------------------------------\u001b[0m",
      "\u001b[1;31mRecursionError\u001b[0m                            Traceback (most recent call last)",
      "\u001b[1;32m<ipython-input-88-34b26c3368b1>\u001b[0m in \u001b[0;36m<module>\u001b[1;34m\u001b[0m\n\u001b[0;32m      5\u001b[0m \u001b[0mprint\u001b[0m\u001b[1;33m(\u001b[0m\u001b[0mserial\u001b[0m\u001b[1;33m)\u001b[0m\u001b[1;33m\u001b[0m\u001b[1;33m\u001b[0m\u001b[0m\n\u001b[0;32m      6\u001b[0m \u001b[1;33m\u001b[0m\u001b[0m\n\u001b[1;32m----> 7\u001b[1;33m \u001b[0mprint\u001b[0m\u001b[1;33m(\u001b[0m\u001b[0mdeserialize\u001b[0m\u001b[1;33m(\u001b[0m\u001b[0mserial\u001b[0m\u001b[1;33m)\u001b[0m\u001b[1;33m)\u001b[0m\u001b[1;33m\u001b[0m\u001b[1;33m\u001b[0m\u001b[0m\n\u001b[0m",
      "\u001b[1;32m<ipython-input-87-a662e6282444>\u001b[0m in \u001b[0;36mdeserialize\u001b[1;34m(tree_text)\u001b[0m\n\u001b[0;32m     18\u001b[0m             \u001b[0mtree_builder\u001b[0m\u001b[1;33m(\u001b[0m\u001b[0mnode\u001b[0m\u001b[1;33m.\u001b[0m\u001b[0mright\u001b[0m\u001b[1;33m)\u001b[0m\u001b[1;33m\u001b[0m\u001b[1;33m\u001b[0m\u001b[0m\n\u001b[0;32m     19\u001b[0m \u001b[1;33m\u001b[0m\u001b[0m\n\u001b[1;32m---> 20\u001b[1;33m     \u001b[1;32mreturn\u001b[0m \u001b[0mtree_builder\u001b[0m\u001b[1;33m(\u001b[0m\u001b[1;33m)\u001b[0m\u001b[1;33m\u001b[0m\u001b[1;33m\u001b[0m\u001b[0m\n\u001b[0m",
      "\u001b[1;32m<ipython-input-87-a662e6282444>\u001b[0m in \u001b[0;36mtree_builder\u001b[1;34m(node)\u001b[0m\n\u001b[0;32m     11\u001b[0m         \u001b[0mnode\u001b[0m \u001b[1;33m=\u001b[0m \u001b[0mNode\u001b[0m\u001b[1;33m(\u001b[0m\u001b[0mval\u001b[0m\u001b[1;33m)\u001b[0m\u001b[1;33m\u001b[0m\u001b[1;33m\u001b[0m\u001b[0m\n\u001b[0;32m     12\u001b[0m         \u001b[1;32mif\u001b[0m \u001b[0mnode\u001b[0m\u001b[1;33m.\u001b[0m\u001b[0mval\u001b[0m \u001b[1;33m==\u001b[0m \u001b[1;34m\"root\"\u001b[0m\u001b[1;33m:\u001b[0m\u001b[1;33m\u001b[0m\u001b[1;33m\u001b[0m\u001b[0m\n\u001b[1;32m---> 13\u001b[1;33m             \u001b[0mtree_builder\u001b[0m\u001b[1;33m(\u001b[0m\u001b[0mnode\u001b[0m\u001b[1;33m.\u001b[0m\u001b[0mleft\u001b[0m\u001b[1;33m)\u001b[0m\u001b[1;33m\u001b[0m\u001b[1;33m\u001b[0m\u001b[0m\n\u001b[0m\u001b[0;32m     14\u001b[0m             \u001b[0mtree_builder\u001b[0m\u001b[1;33m(\u001b[0m\u001b[0mnode\u001b[0m\u001b[1;33m.\u001b[0m\u001b[0mright\u001b[0m\u001b[1;33m)\u001b[0m\u001b[1;33m\u001b[0m\u001b[1;33m\u001b[0m\u001b[0m\n\u001b[0;32m     15\u001b[0m         \u001b[1;32melif\u001b[0m \u001b[0mnode\u001b[0m\u001b[1;33m.\u001b[0m\u001b[0mval\u001b[0m \u001b[1;33m==\u001b[0m \u001b[1;34m\"left\"\u001b[0m\u001b[1;33m:\u001b[0m\u001b[1;33m\u001b[0m\u001b[1;33m\u001b[0m\u001b[0m\n",
      "... last 1 frames repeated, from the frame below ...\n",
      "\u001b[1;32m<ipython-input-87-a662e6282444>\u001b[0m in \u001b[0;36mtree_builder\u001b[1;34m(node)\u001b[0m\n\u001b[0;32m     11\u001b[0m         \u001b[0mnode\u001b[0m \u001b[1;33m=\u001b[0m \u001b[0mNode\u001b[0m\u001b[1;33m(\u001b[0m\u001b[0mval\u001b[0m\u001b[1;33m)\u001b[0m\u001b[1;33m\u001b[0m\u001b[1;33m\u001b[0m\u001b[0m\n\u001b[0;32m     12\u001b[0m         \u001b[1;32mif\u001b[0m \u001b[0mnode\u001b[0m\u001b[1;33m.\u001b[0m\u001b[0mval\u001b[0m \u001b[1;33m==\u001b[0m \u001b[1;34m\"root\"\u001b[0m\u001b[1;33m:\u001b[0m\u001b[1;33m\u001b[0m\u001b[1;33m\u001b[0m\u001b[0m\n\u001b[1;32m---> 13\u001b[1;33m             \u001b[0mtree_builder\u001b[0m\u001b[1;33m(\u001b[0m\u001b[0mnode\u001b[0m\u001b[1;33m.\u001b[0m\u001b[0mleft\u001b[0m\u001b[1;33m)\u001b[0m\u001b[1;33m\u001b[0m\u001b[1;33m\u001b[0m\u001b[0m\n\u001b[0m\u001b[0;32m     14\u001b[0m             \u001b[0mtree_builder\u001b[0m\u001b[1;33m(\u001b[0m\u001b[0mnode\u001b[0m\u001b[1;33m.\u001b[0m\u001b[0mright\u001b[0m\u001b[1;33m)\u001b[0m\u001b[1;33m\u001b[0m\u001b[1;33m\u001b[0m\u001b[0m\n\u001b[0;32m     15\u001b[0m         \u001b[1;32melif\u001b[0m \u001b[0mnode\u001b[0m\u001b[1;33m.\u001b[0m\u001b[0mval\u001b[0m \u001b[1;33m==\u001b[0m \u001b[1;34m\"left\"\u001b[0m\u001b[1;33m:\u001b[0m\u001b[1;33m\u001b[0m\u001b[1;33m\u001b[0m\u001b[0m\n",
      "\u001b[1;31mRecursionError\u001b[0m: maximum recursion depth exceeded while calling a Python object"
     ],
     "output_type": "error"
    }
   ],
   "source": [
    "# Own tests\n",
    "node = Node('root', Node('left', Node('left.left')), Node('right'))\n",
    "\n",
    "serial = serialize(node)\n",
    "print(serial)\n",
    "\n",
    "print(deserialize(serial))\n"
   ]
  },
  {
   "cell_type": "code",
   "execution_count": 80,
   "metadata": {},
   "outputs": [
    {
     "name": "stdout",
     "output_type": "stream",
     "text": [
      "recurring\nrecurring\nrecurring\nrecurring\nrecurring\nrecurring\nrecurring\nrecurring\nrecurring\n"
     ]
    },
    {
     "ename": "AttributeError",
     "evalue": "'NoneType' object has no attribute 'left'",
     "traceback": [
      "\u001b[1;31m---------------------------------------------------------------------------\u001b[0m",
      "\u001b[1;31mAttributeError\u001b[0m                            Traceback (most recent call last)",
      "\u001b[1;32m<ipython-input-80-797685cc06a3>\u001b[0m in \u001b[0;36m<module>\u001b[1;34m\u001b[0m\n\u001b[0;32m      1\u001b[0m \u001b[1;31m# Code provided by question\u001b[0m\u001b[1;33m\u001b[0m\u001b[1;33m\u001b[0m\u001b[1;33m\u001b[0m\u001b[0m\n\u001b[0;32m      2\u001b[0m \u001b[0mnode\u001b[0m \u001b[1;33m=\u001b[0m \u001b[0mNode\u001b[0m\u001b[1;33m(\u001b[0m\u001b[1;34m'root'\u001b[0m\u001b[1;33m,\u001b[0m \u001b[0mNode\u001b[0m\u001b[1;33m(\u001b[0m\u001b[1;34m'left'\u001b[0m\u001b[1;33m,\u001b[0m \u001b[0mNode\u001b[0m\u001b[1;33m(\u001b[0m\u001b[1;34m'left.left'\u001b[0m\u001b[1;33m)\u001b[0m\u001b[1;33m)\u001b[0m\u001b[1;33m,\u001b[0m \u001b[0mNode\u001b[0m\u001b[1;33m(\u001b[0m\u001b[1;34m'right'\u001b[0m\u001b[1;33m)\u001b[0m\u001b[1;33m)\u001b[0m\u001b[1;33m\u001b[0m\u001b[1;33m\u001b[0m\u001b[0m\n\u001b[1;32m----> 3\u001b[1;33m \u001b[1;32massert\u001b[0m \u001b[0mdeserialize\u001b[0m\u001b[1;33m(\u001b[0m\u001b[0mserialize\u001b[0m\u001b[1;33m(\u001b[0m\u001b[0mnode\u001b[0m\u001b[1;33m)\u001b[0m\u001b[1;33m)\u001b[0m\u001b[1;33m.\u001b[0m\u001b[0mleft\u001b[0m\u001b[1;33m.\u001b[0m\u001b[0mleft\u001b[0m\u001b[1;33m.\u001b[0m\u001b[0mval\u001b[0m \u001b[1;33m==\u001b[0m \u001b[1;34m'left.left'\u001b[0m\u001b[1;33m\u001b[0m\u001b[1;33m\u001b[0m\u001b[0m\n\u001b[0m",
      "\u001b[1;31mAttributeError\u001b[0m: 'NoneType' object has no attribute 'left'"
     ],
     "output_type": "error"
    }
   ],
   "source": [
    "# Code provided by question\n",
    "node = Node('root', Node('left', Node('left.left')), Node('right'))\n",
    "assert deserialize(serialize(node)).left.left.val == 'left.left'\n"
   ]
  },
  {
   "cell_type": "heading",
   "metadata": {},
   "level": 1,
   "source": [
    "# Solution\n",
    "\n",
    "There are many ways to serialize and deserialize a binary tree, so don't worry \n",
    "if your solution differs from this one. We will be only going through one possible \n",
    "solution.\n",
    "\n",
    "We can approach this problem by first figuring out what we would like the \n",
    "serialized tree to look like. Ideally, it would contain the minimum information \n",
    "required to encode all the necessary information about the binary tree. One \n",
    "possible encoding might be to borrow S-expressions from Lisp. The tree \n",
    "Node(1, Node(2), Node(3)) would then look like '(1 (2 () ()) (3 () ()))', \n",
    "where the empty brackets denote nulls.\n",
    "\n",
    "To minimize data over the hypothetical wire, we could go a step further and \n",
    "prune out some unnecessary brackets. We could also replace the 2-character '()' \n",
    "with '#'. We can then infer leaf nodes by their form 'val # #' and thus get \n",
    "the structure of the tree that way. Then our tree would look like 1 2 # # 3 # #."
   ]
  },
  {
   "cell_type": "code",
   "execution_count": 28,
   "metadata": {},
   "outputs": [],
   "source": [
    "# Solution code\n",
    "def serialize_sol(root):\n",
    "    if root is None:\n",
    "        return '#'\n",
    "    return '{} {} {}'.format(root.val, serialize_sol(root.left), serialize_sol(root.right))\n"
   ]
  },
  {
   "cell_type": "code",
   "execution_count": 29,
   "metadata": {},
   "outputs": [],
   "source": [
    "# Solution code\n",
    "def deserialize_sol(data):\n",
    "    def helper():\n",
    "        val = next(vals)\n",
    "        if val == '#':\n",
    "            return None\n",
    "        node = Node(int(val))\n",
    "        node.left = helper()\n",
    "        node.right = helper()\n",
    "        return node\n",
    "    vals = iter(data.split())\n",
    "    return helper()\n"
   ]
  },
  {
   "cell_type": "code",
   "execution_count": 30,
   "metadata": {},
   "outputs": [
    {
     "ename": "ValueError",
     "evalue": "invalid literal for int() with base 10: 'root'",
     "traceback": [
      "\u001b[1;31m---------------------------------------------------------------------------\u001b[0m",
      "\u001b[1;31mValueError\u001b[0m                                Traceback (most recent call last)",
      "\u001b[1;32m<ipython-input-30-5ed78fa4c628>\u001b[0m in \u001b[0;36m<module>\u001b[1;34m\u001b[0m\n\u001b[0;32m      1\u001b[0m \u001b[1;31m# Code provided by question\u001b[0m\u001b[1;33m\u001b[0m\u001b[1;33m\u001b[0m\u001b[1;33m\u001b[0m\u001b[0m\n\u001b[0;32m      2\u001b[0m \u001b[0mnode\u001b[0m \u001b[1;33m=\u001b[0m \u001b[0mNode\u001b[0m\u001b[1;33m(\u001b[0m\u001b[1;34m'root'\u001b[0m\u001b[1;33m,\u001b[0m \u001b[0mNode\u001b[0m\u001b[1;33m(\u001b[0m\u001b[1;34m'left'\u001b[0m\u001b[1;33m,\u001b[0m \u001b[0mNode\u001b[0m\u001b[1;33m(\u001b[0m\u001b[1;34m'left.left'\u001b[0m\u001b[1;33m)\u001b[0m\u001b[1;33m)\u001b[0m\u001b[1;33m,\u001b[0m \u001b[0mNode\u001b[0m\u001b[1;33m(\u001b[0m\u001b[1;34m'right'\u001b[0m\u001b[1;33m)\u001b[0m\u001b[1;33m)\u001b[0m\u001b[1;33m\u001b[0m\u001b[1;33m\u001b[0m\u001b[0m\n\u001b[1;32m----> 3\u001b[1;33m \u001b[1;32massert\u001b[0m \u001b[0mdeserialize_sol\u001b[0m\u001b[1;33m(\u001b[0m\u001b[0mserialize_sol\u001b[0m\u001b[1;33m(\u001b[0m\u001b[0mnode\u001b[0m\u001b[1;33m)\u001b[0m\u001b[1;33m)\u001b[0m\u001b[1;33m.\u001b[0m\u001b[0mleft\u001b[0m\u001b[1;33m.\u001b[0m\u001b[0mleft\u001b[0m\u001b[1;33m.\u001b[0m\u001b[0mval\u001b[0m \u001b[1;33m==\u001b[0m \u001b[1;34m'left.left'\u001b[0m\u001b[1;33m\u001b[0m\u001b[1;33m\u001b[0m\u001b[0m\n\u001b[0m",
      "\u001b[1;32m<ipython-input-29-9eaf9270bb00>\u001b[0m in \u001b[0;36mdeserialize_sol\u001b[1;34m(data)\u001b[0m\n\u001b[0;32m      9\u001b[0m         \u001b[1;32mreturn\u001b[0m \u001b[0mnode\u001b[0m\u001b[1;33m\u001b[0m\u001b[1;33m\u001b[0m\u001b[0m\n\u001b[0;32m     10\u001b[0m     \u001b[0mvals\u001b[0m \u001b[1;33m=\u001b[0m \u001b[0miter\u001b[0m\u001b[1;33m(\u001b[0m\u001b[0mdata\u001b[0m\u001b[1;33m.\u001b[0m\u001b[0msplit\u001b[0m\u001b[1;33m(\u001b[0m\u001b[1;33m)\u001b[0m\u001b[1;33m)\u001b[0m\u001b[1;33m\u001b[0m\u001b[1;33m\u001b[0m\u001b[0m\n\u001b[1;32m---> 11\u001b[1;33m     \u001b[1;32mreturn\u001b[0m \u001b[0mhelper\u001b[0m\u001b[1;33m(\u001b[0m\u001b[1;33m)\u001b[0m\u001b[1;33m\u001b[0m\u001b[1;33m\u001b[0m\u001b[0m\n\u001b[0m",
      "\u001b[1;32m<ipython-input-29-9eaf9270bb00>\u001b[0m in \u001b[0;36mhelper\u001b[1;34m()\u001b[0m\n\u001b[0;32m      4\u001b[0m         \u001b[1;32mif\u001b[0m \u001b[0mval\u001b[0m \u001b[1;33m==\u001b[0m \u001b[1;34m'#'\u001b[0m\u001b[1;33m:\u001b[0m\u001b[1;33m\u001b[0m\u001b[1;33m\u001b[0m\u001b[0m\n\u001b[0;32m      5\u001b[0m             \u001b[1;32mreturn\u001b[0m \u001b[1;32mNone\u001b[0m\u001b[1;33m\u001b[0m\u001b[1;33m\u001b[0m\u001b[0m\n\u001b[1;32m----> 6\u001b[1;33m         \u001b[0mnode\u001b[0m \u001b[1;33m=\u001b[0m \u001b[0mNode\u001b[0m\u001b[1;33m(\u001b[0m\u001b[0mint\u001b[0m\u001b[1;33m(\u001b[0m\u001b[0mval\u001b[0m\u001b[1;33m)\u001b[0m\u001b[1;33m)\u001b[0m\u001b[1;33m\u001b[0m\u001b[1;33m\u001b[0m\u001b[0m\n\u001b[0m\u001b[0;32m      7\u001b[0m         \u001b[0mnode\u001b[0m\u001b[1;33m.\u001b[0m\u001b[0mleft\u001b[0m \u001b[1;33m=\u001b[0m \u001b[0mhelper\u001b[0m\u001b[1;33m(\u001b[0m\u001b[1;33m)\u001b[0m\u001b[1;33m\u001b[0m\u001b[1;33m\u001b[0m\u001b[0m\n\u001b[0;32m      8\u001b[0m         \u001b[0mnode\u001b[0m\u001b[1;33m.\u001b[0m\u001b[0mright\u001b[0m \u001b[1;33m=\u001b[0m \u001b[0mhelper\u001b[0m\u001b[1;33m(\u001b[0m\u001b[1;33m)\u001b[0m\u001b[1;33m\u001b[0m\u001b[1;33m\u001b[0m\u001b[0m\n",
      "\u001b[1;31mValueError\u001b[0m: invalid literal for int() with base 10: 'root'"
     ],
     "output_type": "error"
    }
   ],
   "source": [
    "# Code provided by question\n",
    "node = Node('root', Node('left', Node('left.left')), Node('right'))\n",
    "assert deserialize_sol(serialize_sol(node)).left.left.val == 'left.left'\n"
   ]
  },
  {
   "cell_type": "code",
   "execution_count": 31,
   "metadata": {},
   "outputs": [],
   "source": []
  }
 ],
 "metadata": {
  "kernelspec": {
   "display_name": "Python 2",
   "language": "python",
   "name": "python2"
  },
  "language_info": {
   "codemirror_mode": {
    "name": "ipython",
    "version": 2
   },
   "file_extension": ".py",
   "mimetype": "text/x-python",
   "name": "python",
   "nbconvert_exporter": "python",
   "pygments_lexer": "ipython2",
   "version": "2.7.6"
  }
 },
 "nbformat": 4,
 "nbformat_minor": 0
}
