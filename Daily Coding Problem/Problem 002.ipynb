{
 "cells": [
  {
   "cell_type": "heading",
   "metadata": {
    "collapsed": true
   },
   "level": 1,
   "source": [
    "# Problem 2\n",
    "\n",
    "This problem was asked by Uber.\n",
    "Given an array of integers, return a new array such that each element \n",
    "at index i of the new array is the product of all the numbers in the \n",
    "original array except the one at i.\n",
    "For example, if our input was [1, 2, 3, 4, 5], the expected output would \n",
    "be [120, 60, 40, 30, 24]. If our input was [3, 2, 1], the expected \n",
    "output would be [2, 3, 6].\n",
    "\n",
    "Follow-up: what if you can't use division?\n"
   ]
  },
  {
   "cell_type": "code",
   "execution_count": 9,
   "metadata": {},
   "outputs": [],
   "source": [
    "def prod_div(numbers):\n",
    "    product = 1\n",
    "    products = []\n",
    "    for num in numbers:\n",
    "        product = product * num\n",
    "\n",
    "    for num in numbers:\n",
    "        products.append(product / num)\n",
    "\n",
    "    return products\n"
   ]
  },
  {
   "cell_type": "code",
   "execution_count": 10,
   "metadata": {},
   "outputs": [],
   "source": [
    "def prod_no_div(numbers):\n",
    "    # array\n",
    "    products = []\n",
    "    for i in range(len(numbers)):\n",
    "        product = 1\n",
    "        for j in range(len(numbers)):\n",
    "            if i != j:\n",
    "                product = product * numbers[j]\n",
    "        products.append(product)\n",
    "    return products\n"
   ]
  },
  {
   "cell_type": "code",
   "execution_count": 11,
   "metadata": {},
   "outputs": [
    {
     "name": "stdout",
     "output_type": "stream",
     "text": [
      "Div [120.0, 60.0, 40.0, 30.0, 24.0]\nNo Div [120.0, 60.0, 40.0, 30.0, 24.0]\nDiv [2.0, 3.0, 6.0]\nNo Div [2.0, 3.0, 6.0]\n"
     ]
    }
   ],
   "source": [
    "test_nums_1 = [1, 2, 3, 4, 5]\n",
    "test_prods_div_1 = prod_div(test_nums_1)\n",
    "test_prods_no_div_1 = prod_no_div(test_nums_1)\n",
    "print(\"Div\", test_prods_div_1)\n",
    "print(\"No Div\", test_prods_div_1)\n",
    "      \n",
    "test_nums_2 = [3, 2, 1]\n",
    "test_prods_div_2 = prod_div(test_nums_2)\n",
    "test_prods_no_div_2 = prod_no_div(test_nums_2)\n",
    "print(\"Div\", test_prods_div_2)\n",
    "print(\"No Div\", test_prods_div_2)\n"
   ]
  },
  {
   "cell_type": "heading",
   "metadata": {},
   "level": 1,
   "source": [
    "Solution\n",
    "\n",
    "This problem would be easy with division: an optimal solution could just find the product of all numbers in the array and then divide by each of the numbers.\n",
    "\n",
    "Without division, another approach would be to first see that the ith element simply needs the product of numbers before i and the product of numbers after i. Then we could multiply those two numbers to get our desired product.\n",
    "\n",
    "In order to find the product of numbers before i, we can generate a list of prefix products. Specifically, the ith element in the list would be a product of all numbers including i. Similarly, we would generate the list of suffix products.\n",
    "\n",
    "def products(nums):"
   ]
  },
  {
   "cell_type": "code",
   "execution_count": null,
   "metadata": {},
   "outputs": [],
   "source": [
    "def products(nums):\n",
    "    # Generate prefix products\n",
    "    prefix_products = []\n",
    "    for num in nums:\n",
    "        if prefix_products:\n",
    "            prefix_products.append(prefix_products[-1] * num)\n",
    "        else:\n",
    "            prefix_products.append(num)\n",
    "\n",
    "    # Generate suffix products\n",
    "    suffix_products = []\n",
    "    for num in reversed(nums):\n",
    "        if suffix_products:\n",
    "            suffix_products.append(suffix_products[-1] * num)\n",
    "        else:\n",
    "            suffix_products.append(num)\n",
    "    suffix_products = list(reversed(suffix_products))\n",
    "\n",
    "    # Generate result\n",
    "    result = []\n",
    "    for i in range(len(nums)):\n",
    "        if i == 0:\n",
    "            result.append(suffix_products[i + 1])\n",
    "        elif i == len(nums) - 1:\n",
    "            result.append(prefix_products[i - 1])\n",
    "        else:\n",
    "            result.append(prefix_products[i - 1] * suffix_products[i + 1])\n",
    "    return result\n"
   ]
  }
 ],
 "metadata": {
  "kernelspec": {
   "display_name": "Python 2",
   "language": "python",
   "name": "python2"
  },
  "language_info": {
   "codemirror_mode": {
    "name": "ipython",
    "version": 2
   },
   "file_extension": ".py",
   "mimetype": "text/x-python",
   "name": "python",
   "nbconvert_exporter": "python",
   "pygments_lexer": "ipython2",
   "version": "2.7.6"
  }
 },
 "nbformat": 4,
 "nbformat_minor": 0
}
