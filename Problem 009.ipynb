{
 "cells": [
  {
   "cell_type": "code",
   "execution_count": null,
   "metadata": {
    "collapsed": true
   },
   "outputs": [],
   "source": [
    "# Problem 9\n",
    "#\n",
    "# This problem was asked by Airbnb.\n",
    "# \n",
    "# Given a list of integers, write a function that returns the \n",
    "# largest sum of non-adjacent numbers. Numbers can be 0 or negative.\n",
    "# \n",
    "# For example, [2, 4, 6, 2, 5] should return 13, since we pick 2, 6, and 5.\n",
    "# [5, 1, 1, 5] should return 10, since we pick 5 and 5.\n",
    "# \n",
    "# Follow-up: Can you do this in O(N) time and constant space?\n"
   ]
  },
  {
   "cell_type": "code",
   "execution_count": null,
   "metadata": {},
   "outputs": [],
   "source": [
    "def largest_sum(numbers):\n",
    "    sum = 0\n",
    "    \n",
    "    return sum\n"
   ]
  },
  {
   "cell_type": "code",
   "execution_count": null,
   "metadata": {},
   "outputs": [],
   "source": [
    "# Solution\n",
    "#\n",
    "# This problem seems easy from the surface, but is actually quite tricky. \n",
    "# It's tempting to try to use a greedy strategy like pick the largest \n",
    "# number (or first), then the 2nd-largest if it's non-adjacent and so on, \n",
    "# but these don't work -- there will always be some edge case that breaks it.\n",
    "# \n",
    "# Instead, we should look at this problem recursively. Say we had a \n",
    "# function that already returns the largest sum of non-adjacent integers \n",
    "# on smaller inputs. How could we use it to figure out what we want?\n",
    "# \n",
    "# Say we used this function on our array from a[1:] and a[2:]. Then our \n",
    "# solution should be a[1:] OR a[0] + a[2:], whichever is largest. This is \n",
    "# because choosing a[1:] precludes us from picking a[0]. So, we could \n",
    "# write a straightforward recursive solution like this:\n"
   ]
  },
  {
   "cell_type": "code",
   "execution_count": null,
   "metadata": {},
   "outputs": [],
   "source": [
    "def largest_non_adjacent(arr):\n",
    "    if not arr:\n",
    "        return 0\n",
    "\n",
    "    return max(\n",
    "            largest_non_adjacent(arr[1:]),\n",
    "            arr[0] + largest_non_adjacent(arr[2:]))\n"
   ]
  },
  {
   "cell_type": "code",
   "execution_count": null,
   "metadata": {},
   "outputs": [],
   "source": [
    "# However, this solution runs in O(2n) time, since with each call, we're \n",
    "# making two further recursive calls. We could memoize the results, or use \n",
    "# dynamic programming to store, in an array, the largest sum of non-adjacent \n",
    "# numbers from index 0 up to that point. Like so:\n"
   ]
  },
  {
   "cell_type": "code",
   "execution_count": null,
   "metadata": {},
   "outputs": [],
   "source": [
    "def largest_non_adjacent(arr):\n",
    "    if len(arr) <= 2:\n",
    "        return max(0, max(arr))\n",
    "\n",
    "    cache = [0 for i in arr]\n",
    "    cache[0] = max(0, arr[0])\n",
    "    cache[1] = max(cache[0], arr[1])\n",
    "\n",
    "    for i in range(2, len(arr)):\n",
    "        num = arr[i]\n",
    "        cache[i] = max(num + cache[i - 2], cache[i - 1])\n",
    "    return cache[-1]\n"
   ]
  },
  {
   "cell_type": "code",
   "execution_count": null,
   "metadata": {},
   "outputs": [],
   "source": [
    "# This code should run in O(n) and in O(n) space. But we can improve this \n",
    "# even further. Notice that we only ever use the last two elements of the \n",
    "# cache when iterating through the array. This suggests that we could just \n",
    "# get rid of most of the array and just store them as variables:\n"
   ]
  },
  {
   "cell_type": "code",
   "execution_count": null,
   "metadata": {},
   "outputs": [],
   "source": [
    "def largest_non_adjacent(arr):\n",
    "    if len(arr) <= 2:\n",
    "        return max(0, max(arr))\n",
    "\n",
    "    max_excluding_last = max(0, arr[0])\n",
    "    max_including_last = max(max_excluding_last, arr[1])\n",
    "\n",
    "    for num in arr[2:]:\n",
    "        prev_max_including_last = max_including_last\n",
    "\n",
    "        max_including_last = max(max_including_last, max_excluding_last + num)\n",
    "        max_excluding_last = prev_max_including_last\n",
    "\n",
    "    return max(max_including_last, max_excluding_last)\n"
   ]
  }
 ],
 "metadata": {
  "kernelspec": {
   "display_name": "Python 2",
   "language": "python",
   "name": "python2"
  },
  "language_info": {
   "codemirror_mode": {
    "name": "ipython",
    "version": 2
   },
   "file_extension": ".py",
   "mimetype": "text/x-python",
   "name": "python",
   "nbconvert_exporter": "python",
   "pygments_lexer": "ipython2",
   "version": "2.7.6"
  }
 },
 "nbformat": 4,
 "nbformat_minor": 0
}
