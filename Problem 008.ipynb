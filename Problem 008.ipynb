{
 "cells": [
  {
   "cell_type": "code",
   "execution_count": null,
   "metadata": {
    "collapsed": true
   },
   "outputs": [],
   "source": [
    "# Problem 8\n",
    "#\n",
    "# This problem was asked by Google.\n",
    "# \n",
    "# A unival tree (which stands for \"universal value\") is a tree where all nodes under it have the same value.\n",
    "# \n",
    "# Given the root to a binary tree, count the number of unival subtrees.\n",
    "# \n",
    "# For example, the following tree has 5 unival subtrees:\n",
    "# \n",
    "#    0\n",
    "#   / \\\n",
    "#  1   0\n",
    "#     / \\\n",
    "#    1   0\n",
    "#   / \\\n",
    "#  1   1"
   ]
  },
  {
   "cell_type": "code",
   "execution_count": null,
   "metadata": {},
   "outputs": [],
   "source": []
  },
  {
   "cell_type": "code",
   "execution_count": null,
   "metadata": {},
   "outputs": [],
   "source": [
    "# Solution \n",
    "#\n",
    "# To start off, we should go through some examples.\n",
    "# \n",
    "#   a\n",
    "#  / \\\n",
    "# a   a\n",
    "#     /\\\n",
    "#    a  a\n",
    "#        \\\n",
    "#         A\n",
    "# This tree has 3 unival subtrees: the two 'a' leaves, \n",
    "# and the one 'A' leaf. The 'A' leaf causes all its parents \n",
    "# to not be counted as a unival tree.\n",
    "# \n",
    "#   a\n",
    "#  / \\\n",
    "# c   b\n",
    "#     /\\\n",
    "#    b  b\n",
    "#         \\\n",
    "#          b\n",
    "# This tree has 5 unival subtrees: the leaf at 'c', and every 'b'.\n",
    "# \n",
    "# We can start off by first writing a function that checks whether \n",
    "# a tree is unival or not. Then, perhaps we could use this to count \n",
    "# up all the nodes in the tree.\n",
    "# \n",
    "# To check whether a tree is a unival tree, we must check that \n",
    "# every node in the tree has the same value. To start off, we \n",
    "# could define an is_unival function that takes in a root to a tree. \n",
    "# We would do this recursively with a helper function. Recall that a \n",
    "# leaf qualifies as a unival tree.\n"
   ]
  },
  {
   "cell_type": "code",
   "execution_count": null,
   "metadata": {},
   "outputs": [],
   "source": [
    "def is_unival(root):\n",
    "    return unival_helper(root, root.value)\n",
    "\n",
    "\n",
    "def unival_helper(root, value):\n",
    "    if root is None:\n",
    "        return True\n",
    "    if root.value == value:\n",
    "        return unival_helper(root.left, value) \\\n",
    "               and unival_helper(root.right, value)\n",
    "    return False\n"
   ]
  },
  {
   "cell_type": "code",
   "execution_count": null,
   "metadata": {},
   "outputs": [],
   "source": [
    "# And then our function that counts the number of subtrees \n",
    "# could simply use that function:\n"
   ]
  },
  {
   "cell_type": "code",
   "execution_count": null,
   "metadata": {},
   "outputs": [],
   "source": [
    "def count_unival_subtrees(root):\n",
    "    if root is None:\n",
    "        return 0\n",
    "    left = count_unival_subtrees(root.left)\n",
    "    right = count_unival_subtrees(root.right)\n",
    "    return 1 + left + right if is_unival(root) \\\n",
    "        else left + right\n"
   ]
  },
  {
   "cell_type": "code",
   "execution_count": null,
   "metadata": {},
   "outputs": [],
   "source": [
    "# However, this runs in O(n^2) time. For each node of the tree, \n",
    "# we're evaluating each node in its subtree again as well. We \n",
    "# can improve the runtime by starting at the leaves of the tree, \n",
    "# and keeping track of the unival subtree count and value as \n",
    "# we percolate back up. This should evaluate each node only once, \n",
    "# making it run in O(n) time.\n"
   ]
  },
  {
   "cell_type": "code",
   "execution_count": null,
   "metadata": {},
   "outputs": [],
   "source": [
    "def count_unival_subtrees(root):\n",
    "    count, _ = helper(root)\n",
    "    return count\n",
    "\n",
    "# Also returns number of unival subtrees, and whether it is \n",
    "# itself a unival subtree.\n",
    "\n",
    "\n",
    "def helper(root):\n",
    "    if root is None:\n",
    "        return 0, True\n",
    "\n",
    "    left_count, is_left_unival = helper(root.left)\n",
    "    right_count, is_right_unival = helper(root.right)\n",
    "    total_count = left_count + right_count\n",
    "\n",
    "    if is_left_unival and is_right_unival:\n",
    "        if root.left is not None \\\n",
    "                and root.value != root.left.value:\n",
    "            return total_count, False\n",
    "        if root.right is not None \\\n",
    "                and root.value != root.right.value:\n",
    "            return total_count, False\n",
    "        return total_count + 1, True\n",
    "    return total_count, False\n"
   ]
  },
  {
   "cell_type": "code",
   "execution_count": null,
   "metadata": {},
   "outputs": [],
   "source": []
  },
  {
   "cell_type": "code",
   "execution_count": null,
   "metadata": {},
   "outputs": [],
   "source": []
  }
 ],
 "metadata": {
  "kernelspec": {
   "display_name": "Python 2",
   "language": "python",
   "name": "python2"
  },
  "language_info": {
   "codemirror_mode": {
    "name": "ipython",
    "version": 2
   },
   "file_extension": ".py",
   "mimetype": "text/x-python",
   "name": "python",
   "nbconvert_exporter": "python",
   "pygments_lexer": "ipython2",
   "version": "2.7.6"
  }
 },
 "nbformat": 4,
 "nbformat_minor": 0
}
