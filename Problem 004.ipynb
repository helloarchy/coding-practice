{
 "cells": [
  {
   "cell_type": "heading",
   "metadata": {
    "collapsed": true
   },
   "level": 1,
   "source": [
    "# Problem 4\n",
    "\n",
    "This problem was asked by Stripe.\n",
    "\n",
    "Given an array of integers, find the first missing positive integer in linear time and constant space. In other words, find the lowest positive integer that does not exist in the array. The array can contain duplicates and negative numbers as well.\n",
    "\n",
    "For example, the input [3, 4, -1, 1] should give 2. The input [1, 2, 0] should give 3.\n",
    "You can modify the input array in-place.\n"
   ]
  },
  {
   "cell_type": "code",
   "execution_count": 25,
   "metadata": {},
   "outputs": [],
   "source": [
    "def missing_positive(numbers):\n",
    "    missing_number = None\n",
    "    prev_num = 0\n",
    "    numbers.sort()\n",
    "    print(numbers)\n",
    "    for num in numbers:\n",
    "        if num == prev_num + 1 or num == prev_num:\n",
    "            prev_num = num\n",
    "            continue\n",
    "        elif num > 0:\n",
    "            missing_number = prev_num + 1\n",
    "            break\n",
    "    if missing_number is not None and missing_number > 0:\n",
    "        return missing_number\n",
    "    return \"None\"\n"
   ]
  },
  {
   "cell_type": "code",
   "execution_count": 26,
   "metadata": {},
   "outputs": [
    {
     "name": "stdout",
     "output_type": "stream",
     "text": [
      "[-1, 1, 3, 4]\nTest 1 =  2\n[0, 1, 2]\nTest 2 =  None\n"
     ]
    }
   ],
   "source": [
    "test_list_1 = [3, 4, -1, 1]\n",
    "test_list_2 = [1, 2, 0]\n",
    "\n",
    "print(\"Test 1 = \", missing_positive(test_list_1))\n",
    "print(\"Test 2 = \", missing_positive(test_list_2))\n"
   ]
  },
  {
   "cell_type": "code",
   "execution_count": null,
   "metadata": {},
   "outputs": [],
   "source": []
  }
 ],
 "metadata": {
  "kernelspec": {
   "display_name": "Python 2",
   "language": "python",
   "name": "python2"
  },
  "language_info": {
   "codemirror_mode": {
    "name": "ipython",
    "version": 2
   },
   "file_extension": ".py",
   "mimetype": "text/x-python",
   "name": "python",
   "nbconvert_exporter": "python",
   "pygments_lexer": "ipython2",
   "version": "2.7.6"
  }
 },
 "nbformat": 4,
 "nbformat_minor": 0
}
