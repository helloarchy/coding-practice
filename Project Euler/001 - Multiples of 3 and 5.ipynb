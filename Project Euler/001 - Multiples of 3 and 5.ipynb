{
 "cells": [
  {
   "cell_type": "code",
   "execution_count": null,
   "metadata": {
    "collapsed": true
   },
   "outputs": [],
   "source": [
    "# Problem 1 - Multiples of 3 and 5\n",
    "# If we list all the natural numbers below 10 that are multiples of 3 or 5, \n",
    "# we get 3, 5, 6 and 9. The sum of these multiples is 23.\n",
    "# \n",
    "# Find the sum of all the multiples of 3 or 5 below 1000.\n"
   ]
  },
  {
   "cell_type": "code",
   "execution_count": 12,
   "metadata": {},
   "outputs": [],
   "source": [
    "def multiples_3_5_upto_n(n):\n",
    "    _sum = 0\n",
    "    for num in range(n):\n",
    "        print(num)\n",
    "        if (num % 3) == 0 or (num % 5) == 0:\n",
    "            print(\"Yes\")\n",
    "            _sum += num\n",
    "    return _sum\n"
   ]
  },
  {
   "cell_type": "code",
   "execution_count": 14,
   "metadata": {},
   "outputs": [
    {
     "name": "stdout",
     "output_type": "stream",
     "text": [
      "0\nYes\n1\n2\n3\nYes\n4\n5\nYes\n6\nYes\n7\n8\n9\nYes\nSum of  10  =  23\n0\nYes\n1\n2\n3\nYes\n4\n5\nYes\n6\nYes\n7\n8\n9\nYes\n10\nYes\n11\n12\nYes\n13\n14\n15\nYes\n16\n17\n18\nYes\n19\n20\nYes\n21\nYes\n22\n23\n24\nYes\n25\nYes\n26\n27\nYes\n28\n29\n30\nYes\n31\n32\n33\nYes\n34\n35\nYes\n36\nYes\n37\n38\n39\nYes\n40\nYes\n41\n42\nYes\n43\n44\n45\nYes\n46\n47\n48\nYes\n49\n50\nYes\n51\nYes\n52\n53\n54\nYes\n55\nYes\n56\n57\nYes\n58\n59\n60\nYes\n61\n62\n63\nYes\n64\n65\nYes\n66\nYes\n67\n68\n69\nYes\n70\nYes\n71\n72\nYes\n73\n74\n75\nYes\n76\n77\n78\nYes\n79\n80\nYes\n81\nYes\n82\n83\n84\nYes\n85\nYes\n86\n87\nYes\n88\n89\n90\nYes\n91\n92\n93\nYes\n94\n95\nYes\n96\nYes\n97\n98\n99\nYes\n100\nYes\n101\n102\nYes\n103\n104\n105\nYes\n106\n107\n108\nYes\n109\n110\nYes\n111\nYes\n112\n113\n114\nYes\n115\nYes\n116\n117\nYes\n118\n119\n120\nYes\n121\n122\n123\nYes\n124\n125\nYes\n126\nYes\n127\n128\n129\nYes\n130\nYes\n131\n132\nYes\n133\n134\n135\nYes\n136\n137\n138\nYes\n139\n140\nYes\n141\nYes\n142\n143\n144\nYes\n145\nYes\n146\n147\nYes\n148\n149\n150\nYes\n151\n152\n153\nYes\n154\n155\nYes\n156\nYes\n157\n158\n159\nYes\n160\nYes\n161\n162\nYes\n163\n164\n165\nYes\n166\n167\n168\nYes\n169\n170\nYes\n171\nYes\n172\n173\n174\nYes\n175\nYes\n176\n177\nYes\n178\n179\n180\nYes\n181\n182\n183\nYes\n184\n185\nYes\n186\nYes\n187\n188\n189\nYes\n190\nYes\n191\n192\nYes\n193\n194\n195\nYes\n196\n197\n198\nYes\n199\n200\nYes\n201\nYes\n202\n203\n204\nYes\n205\nYes\n206\n207\nYes\n208\n209\n210\nYes\n211\n212\n213\nYes\n214\n215\nYes\n216\nYes\n217\n218\n219\nYes\n220\nYes\n221\n222\nYes\n223\n224\n225\nYes\n226\n227\n228\nYes\n229\n230\nYes\n231\nYes\n232\n233\n234\nYes\n235\nYes\n236\n237\nYes\n238\n239\n240\nYes\n241\n242\n243\nYes\n244\n245\nYes\n246\nYes\n247\n248\n249\nYes\n250\nYes\n251\n252\nYes\n253\n254\n255\nYes\n256\n257\n258\nYes\n259\n260\nYes\n261\nYes\n262\n263\n264\nYes\n265\nYes\n266\n267\nYes\n268\n269\n270\nYes\n271\n272\n273\nYes\n274\n275\nYes\n276\nYes\n277\n278\n279\nYes\n280\nYes\n281\n282\nYes\n283\n284\n285\nYes\n286\n287\n288\nYes\n289\n290\nYes\n291\nYes\n292\n293\n294\nYes\n295\nYes\n296\n297\nYes\n298\n299\n300\nYes\n301\n302\n303\nYes\n304\n305\nYes\n306\nYes\n307\n308\n309\nYes\n310\nYes\n311\n312\nYes\n313\n314\n315\nYes\n316\n317\n318\nYes\n319\n320\nYes\n321\nYes\n322\n323\n324\nYes\n325\nYes\n326\n327\nYes\n328\n329\n330\nYes\n331\n332\n333\nYes\n334\n335\nYes\n336\nYes\n337\n338\n339\nYes\n340\nYes\n341\n342\nYes\n343\n344\n345\nYes\n346\n347\n348\nYes\n349\n350\nYes\n351\nYes\n352\n353\n354\nYes\n355\nYes\n356\n357\nYes\n358\n359\n360\nYes\n361\n362\n363\nYes\n364\n365\nYes\n366\nYes\n367\n368\n369\nYes\n370\nYes\n371\n372\nYes\n373\n374\n375\nYes\n376\n377\n378\nYes\n379\n380\nYes\n381\nYes\n382\n383\n384\nYes\n385\nYes\n386\n387\nYes\n388\n389\n390\nYes\n391\n392\n393\nYes\n394\n395\nYes\n396\nYes\n397\n398\n399\nYes\n400\nYes\n401\n402\nYes\n403\n404\n405\nYes\n406\n407\n408\nYes\n409\n410\nYes\n411\nYes\n412\n413\n414\nYes\n415\nYes\n416\n417\nYes\n418\n419\n420\nYes\n421\n422\n423\nYes\n424\n425\nYes\n426\nYes\n427\n428\n429\nYes\n430\nYes\n431\n432\nYes\n433\n434\n435\nYes\n436\n437\n438\nYes\n439\n440\nYes\n441\nYes\n442\n443\n444\nYes\n445\nYes\n446\n447\nYes\n448\n449\n450\nYes\n451\n452\n453\nYes\n454\n455\nYes\n456\nYes\n457\n458\n459\nYes\n460\nYes\n461\n462\nYes\n463\n464\n465\nYes\n466\n467\n468\nYes\n469\n470\nYes\n471\nYes\n472\n473\n474\nYes\n475\nYes\n476\n477\nYes\n478\n479\n480\nYes\n481\n482\n483\nYes\n484\n485\nYes\n486\nYes\n487\n488\n489\nYes\n490\nYes\n491\n492\nYes\n493\n494\n495\nYes\n496\n497\n498\nYes\n499\n500\nYes\n501\nYes\n502\n503\n504\nYes\n505\nYes\n506\n507\nYes\n508\n509\n510\nYes\n511\n512\n513\nYes\n514\n515\nYes\n516\nYes\n517\n518\n519\nYes\n520\nYes\n521\n522\nYes\n523\n524\n525\nYes\n526\n527\n528\nYes"
     ]
    },
    {
     "name": "stdout",
     "output_type": "stream",
     "text": [
      "\n529\n530\nYes\n531\nYes\n532\n533\n534\nYes\n535\nYes\n536\n537\nYes\n538\n539\n540\nYes\n541\n542\n543\nYes\n544\n545\nYes\n546\nYes\n547\n548\n549\nYes\n550\nYes\n551\n552\nYes\n553\n554\n555\nYes\n556\n557\n558\nYes\n559\n560\nYes\n561\nYes\n562\n563\n564\nYes\n565\nYes\n566\n567\nYes\n568\n569\n570\nYes\n571\n572\n573\nYes\n574\n575\nYes\n576\nYes\n577\n578\n579\nYes\n580\nYes\n581\n582\nYes\n583\n584\n585\nYes\n586\n587\n588\nYes\n589\n590\nYes\n591\nYes\n592\n593\n594\nYes\n595\nYes\n596\n597\nYes\n598\n599\n600\nYes\n601\n602\n603\nYes\n604\n605\nYes\n606\nYes\n607\n608\n609\nYes\n610\nYes\n611\n612\nYes\n613\n614\n615\nYes\n616\n617\n618\nYes\n619\n620\nYes\n621\nYes\n622\n623\n624\nYes\n625\nYes\n626\n627\nYes\n628\n629\n630\nYes\n631\n632\n633\nYes\n634\n635\nYes\n636\nYes\n637\n638\n639\nYes\n640\nYes\n641\n642\nYes\n643\n644\n645\nYes\n646\n647\n648\nYes\n649\n650\nYes\n651\nYes\n652\n653\n654\nYes\n655\nYes\n656\n657\nYes\n658\n659\n660\nYes\n661\n662\n663\nYes\n664\n665\nYes\n666\nYes\n667\n668\n669\nYes\n670\nYes\n671\n672\nYes\n673\n674\n675\nYes\n676\n677\n678\nYes\n679\n680\nYes\n681\nYes\n682\n683\n684\nYes\n685\nYes\n686\n687\nYes\n688\n689\n690\nYes\n691\n692\n693\nYes\n694\n695\nYes\n696\nYes\n697\n698\n699\nYes\n700\nYes\n701\n702\nYes\n703\n704\n705\nYes\n706\n707\n708\nYes\n709\n710\nYes\n711\nYes\n712\n713\n714\nYes\n715\nYes\n716\n717\nYes\n718\n719\n720\nYes\n721\n722\n723\nYes\n724\n725\nYes\n726\nYes\n727\n728\n729\nYes\n730\nYes\n731\n732\nYes\n733\n734\n735\nYes\n736\n737\n738\nYes\n739\n740\nYes\n741\nYes\n742\n743\n744\nYes\n745\nYes\n746\n747\nYes\n748\n749\n750\nYes\n751\n752\n753\nYes\n754\n755\nYes\n756\nYes\n757\n758\n759\nYes\n760\nYes\n761\n762\nYes\n763\n764\n765\nYes\n766\n767\n768\nYes\n769\n770\nYes\n771\nYes\n772\n773\n774\nYes\n775\nYes\n776\n777\nYes\n778\n779\n780\nYes\n781\n782\n783\nYes\n784\n785\nYes\n786\nYes\n787\n788\n789\nYes\n790\nYes\n791\n792\nYes\n793\n794\n795\nYes\n796\n797\n798\nYes\n799\n800\nYes\n801\nYes\n802\n803\n804\nYes\n805\nYes\n806\n807\nYes\n808\n809\n810\nYes\n811\n812\n813\nYes\n814\n815\nYes\n816\nYes\n817\n818\n819\nYes\n820\nYes\n821\n822\nYes\n823\n824\n825\nYes\n826\n827\n828\nYes\n829\n830\nYes\n831\nYes\n832\n833\n834\nYes\n835\nYes\n836\n837\nYes\n838\n839\n840\nYes\n841\n842\n843\nYes\n844\n845\nYes\n846\nYes\n847\n848\n849\nYes\n850\nYes\n851\n852\nYes\n853\n854\n855\nYes\n856\n857\n858\nYes\n859\n860\nYes\n861\nYes\n862\n863\n864\nYes\n865\nYes\n866\n867\nYes\n868\n869\n870\nYes\n871\n872\n873\nYes\n874\n875\nYes\n876\nYes\n877\n878\n879\nYes\n880\nYes\n881\n882\nYes\n883\n884\n885\nYes\n886\n887\n888\nYes\n889\n890\nYes\n891\nYes\n892\n893\n894\nYes\n895\nYes\n896\n897\nYes\n898\n899\n900\nYes\n901\n902\n903\nYes\n904\n905\nYes\n906\nYes\n907\n908\n909\nYes\n910\nYes\n911\n912\nYes\n913\n914\n915\nYes\n916\n917\n918\nYes\n919\n920\nYes\n921\nYes\n922\n923\n924\nYes\n925\nYes\n926\n927\nYes\n928\n929\n930\nYes\n931\n932\n933\nYes\n934\n935\nYes\n936\nYes\n937\n938\n939\nYes\n940\nYes\n941\n942\nYes\n943\n944\n945\nYes\n946\n947\n948\nYes\n949\n950\nYes\n951\nYes\n952\n953\n954\nYes\n955\nYes\n956\n957\nYes\n958\n959\n960\nYes\n961\n962\n963\nYes\n964\n965\nYes\n966\nYes\n967\n968\n969\nYes\n970\nYes\n971\n972\nYes\n973\n974\n975\nYes\n976\n977\n978\nYes\n979\n980\nYes\n981\nYes\n982\n983\n984\nYes\n985\nYes\n986\n987\nYes\n988\n989\n990\nYes\n991\n992\n993\nYes\n994\n995\nYes\n996\nYes\n997\n998\n999\nYes\nSum of  1000  =  233168\n"
     ]
    }
   ],
   "source": [
    "num = 10\n",
    "print(\"Sum of \", num, \" = \", multiples_3_5_upto_n(num))\n",
    "\n",
    "num = 1000\n",
    "print(\"Sum of \", num, \" = \", multiples_3_5_upto_n(num))\n",
    "\n"
   ]
  },
  {
   "cell_type": "code",
   "execution_count": null,
   "metadata": {},
   "outputs": [],
   "source": []
  },
  {
   "cell_type": "code",
   "execution_count": null,
   "metadata": {},
   "outputs": [],
   "source": []
  },
  {
   "cell_type": "code",
   "execution_count": null,
   "metadata": {},
   "outputs": [],
   "source": []
  }
 ],
 "metadata": {
  "kernelspec": {
   "display_name": "Python 2",
   "language": "python",
   "name": "python2"
  },
  "language_info": {
   "codemirror_mode": {
    "name": "ipython",
    "version": 2
   },
   "file_extension": ".py",
   "mimetype": "text/x-python",
   "name": "python",
   "nbconvert_exporter": "python",
   "pygments_lexer": "ipython2",
   "version": "2.7.6"
  }
 },
 "nbformat": 4,
 "nbformat_minor": 0
}
